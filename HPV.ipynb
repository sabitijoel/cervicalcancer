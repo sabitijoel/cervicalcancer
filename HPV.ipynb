{
 "cells": [
  {
   "cell_type": "code",
   "execution_count": 6,
   "id": "104bcb56",
   "metadata": {},
   "outputs": [],
   "source": [
    "import seaborn as sns\n",
    "import numpy as np\n",
    "import pandas as pd\n",
    "import matplotlib\n",
    "import matplotlib.pyplot as plt\n",
    "from sklearn.preprocessing import StandardScaler, RobustScaler, MaxAbsScaler, MinMaxScaler\n",
    "\n",
    "import numpy as np\n",
    "import pandas as pd\n",
    "import sklearn as sk\n",
    "import matplotlib.pyplot as plt\n",
    "import matplotlib.patches as mpatches\n",
    "import seaborn as sns\n",
    "sns.set(style=\"whitegrid\")\n",
    "import random\n",
    "import tensorflow as tf\n",
    "from sklearn.preprocessing import scale\n",
    "from sklearn.utils import shuffle\n",
    "\n",
    "from sklearn.model_selection import GridSearchCV\n",
    "from sklearn.metrics import mean_absolute_error, mean_squared_error, r2_score\n",
    "from pylab import rcParams\n",
    "rcParams['figure.figsize'] = 14, 8\n",
    "LABELS = [\"Normal\", \"Fraud\"]\n",
    "import plotly\n",
    "import time\n",
    "\n",
    "# Classifier Libraries \n",
    "from sklearn.linear_model import LogisticRegression\n",
    "from sklearn.svm import SVC\n",
    "from sklearn.neighbors import KNeighborsClassifier\n",
    "from sklearn.ensemble import RandomForestClassifier\n",
    "\n",
    "import collections\n",
    "\n",
    "# Other Libraries\n",
    "from sklearn.model_selection import train_test_split\n",
    "from sklearn.model_selection import StratifiedShuffleSplit\n",
    "from sklearn.pipeline import make_pipeline\n",
    "from imblearn.pipeline import make_pipeline as imbalanced_make_pipeline\n",
    "from imblearn.over_sampling import SMOTE\n",
    "from imblearn.under_sampling import NearMiss\n",
    "from imblearn.metrics import classification_report_imbalanced\n",
    "from sklearn.metrics import precision_score, recall_score, f1_score, roc_auc_score, accuracy_score, classification_report\n",
    "from collections import Counter\n",
    "from sklearn.model_selection import KFold, StratifiedKFold\n",
    "import warnings\n",
    "warnings.filterwarnings(\"ignore\")"
   ]
  },
  {
   "cell_type": "code",
   "execution_count": 7,
   "id": "37d76e02",
   "metadata": {},
   "outputs": [],
   "source": [
    "file_path = r'/Users/joelsabiti/Desktop/practicals/cereals/ainea.xlsx'\n",
    "\n",
    "# Read the Excel file into a pandas DataFrame\n",
    "df = pd.read_excel(file_path)"
   ]
  },
  {
   "cell_type": "code",
   "execution_count": 8,
   "id": "6e9b7a8f",
   "metadata": {},
   "outputs": [],
   "source": [
    "df=df.drop('Residence',axis=1)"
   ]
  },
  {
   "cell_type": "code",
   "execution_count": 9,
   "id": "e7e8b5ed",
   "metadata": {},
   "outputs": [
    {
     "data": {
      "text/plain": [
       "array(['married ', 'single ', 'divorced ', 'seperated ', 'maried ',\n",
       "       'mmaried ', 'divoced ', 'sperated ', 'window ', 'window', 'widow ',\n",
       "       'marrid ', 'marrried ', 'dovorced', 'divocred ', 'maried  ',\n",
       "       'sinle '], dtype=object)"
      ]
     },
     "execution_count": 9,
     "metadata": {},
     "output_type": "execute_result"
    }
   ],
   "source": [
    "df['Marital_Status'].unique()"
   ]
  },
  {
   "cell_type": "code",
   "execution_count": 10,
   "id": "b2172de9",
   "metadata": {},
   "outputs": [],
   "source": [
    "status={\n",
    "    'single ': 'single',\n",
    "    'sinle ': 'single',\n",
    "    'married ':'married', \n",
    "    'marrid ':'married',\n",
    "    'maried ':'married', \n",
    "    'maried  ':'married',\n",
    "    'marrried ':'married',\n",
    "    'mmaried ':'married',\n",
    "    'sperated ':'divorced',\n",
    "    'seperated ':'divorced',\n",
    "    'divorced ':'divorced',\n",
    "    'divoced ' :'divorced', \n",
    "    'divocred ':'divorced', \n",
    "    'dovorced':'divorced',\n",
    "    'window ':'widowed',\n",
    "    'widow ':'widowed',\n",
    "    'window':'widowed',\n",
    "    \n",
    "}"
   ]
  },
  {
   "cell_type": "code",
   "execution_count": 11,
   "id": "bb40cbbd",
   "metadata": {},
   "outputs": [],
   "source": [
    "df['Marital_Status']=df['Marital_Status'].replace(status)"
   ]
  },
  {
   "cell_type": "code",
   "execution_count": 12,
   "id": "19015940",
   "metadata": {},
   "outputs": [
    {
     "data": {
      "text/plain": [
       "married     543\n",
       "single      363\n",
       "divorced     16\n",
       "widowed       7\n",
       "Name: Marital_Status, dtype: int64"
      ]
     },
     "execution_count": 12,
     "metadata": {},
     "output_type": "execute_result"
    }
   ],
   "source": [
    "df['Marital_Status'].value_counts()"
   ]
  },
  {
   "cell_type": "code",
   "execution_count": 13,
   "id": "3f7ec9da",
   "metadata": {
    "scrolled": true
   },
   "outputs": [],
   "source": [
    "marital_map = {\n",
    "    'single':1,\n",
    "    'married':2,\n",
    "    'widowed':3,\n",
    "    'divorced':4,\n",
    "}\n",
    "df['Marital_Status']=df['Marital_Status'].map(marital_map)"
   ]
  },
  {
   "cell_type": "code",
   "execution_count": 14,
   "id": "601d1dfe",
   "metadata": {},
   "outputs": [
    {
     "data": {
      "text/plain": [
       "array(['None ', 'Employed ', 'None'], dtype=object)"
      ]
     },
     "execution_count": 14,
     "metadata": {},
     "output_type": "execute_result"
    }
   ],
   "source": [
    "df['Occupation'].unique()"
   ]
  },
  {
   "cell_type": "code",
   "execution_count": 15,
   "id": "18a009ea",
   "metadata": {},
   "outputs": [],
   "source": [
    "occupation_status={\n",
    "    'Employed ':'Employed',\n",
    "    'None':'Unemployed',\n",
    "    'None ':'Unemployed',\n",
    "}\n",
    "df['Occupation']=df['Occupation'].replace(occupation_status)"
   ]
  },
  {
   "cell_type": "code",
   "execution_count": 16,
   "id": "06a14eed",
   "metadata": {},
   "outputs": [
    {
     "data": {
      "text/plain": [
       "array([0, 1])"
      ]
     },
     "execution_count": 16,
     "metadata": {},
     "output_type": "execute_result"
    }
   ],
   "source": [
    "occupation_map = {\n",
    "    'Employed':1,\n",
    "    'Unemployed':0,\n",
    "}\n",
    "df['Occupation']=df['Occupation'].map(occupation_map)\n",
    "df['Occupation'].unique()"
   ]
  },
  {
   "cell_type": "code",
   "execution_count": 17,
   "id": "17650a9c",
   "metadata": {},
   "outputs": [],
   "source": [
    "df.drop('Education', axis=1, inplace=True)"
   ]
  },
  {
   "cell_type": "code",
   "execution_count": 18,
   "id": "06ce340c",
   "metadata": {},
   "outputs": [
    {
     "data": {
      "text/plain": [
       "POS    627\n",
       "NEG    283\n",
       "ND      19\n",
       "Name: HIV_Status, dtype: int64"
      ]
     },
     "execution_count": 18,
     "metadata": {},
     "output_type": "execute_result"
    }
   ],
   "source": [
    "df['HIV_Status'].value_counts()"
   ]
  },
  {
   "cell_type": "code",
   "execution_count": 19,
   "id": "08c4b391",
   "metadata": {},
   "outputs": [
    {
     "data": {
      "text/plain": [
       "array([1, 2, 3])"
      ]
     },
     "execution_count": 19,
     "metadata": {},
     "output_type": "execute_result"
    }
   ],
   "source": [
    "hiv_map = {\n",
    "   'NEG':1,\n",
    "    'POS':2,\n",
    "    'ND':3,\n",
    "}\n",
    "\n",
    "df['HIV_Status']=df['HIV_Status'].map(hiv_map)\n",
    "df['HIV_Status'].unique()"
   ]
  },
  {
   "cell_type": "code",
   "execution_count": 20,
   "id": "5e28a10a",
   "metadata": {},
   "outputs": [
    {
     "data": {
      "text/plain": [
       "array(['No', 'yes ', 'Yes '], dtype=object)"
      ]
     },
     "execution_count": 20,
     "metadata": {},
     "output_type": "execute_result"
    }
   ],
   "source": [
    "df['Bloody_Vaginal_Discharge'].unique()"
   ]
  },
  {
   "cell_type": "code",
   "execution_count": 21,
   "id": "1b94df36",
   "metadata": {},
   "outputs": [],
   "source": [
    "discharge_map = {\n",
    "    'No':0,\n",
    "    'yes ':1,\n",
    "    'Yes ':1,\n",
    "}\n",
    "\n",
    "df['Bloody_Vaginal_Discharge']=df['Bloody_Vaginal_Discharge'].map(discharge_map)"
   ]
  },
  {
   "cell_type": "code",
   "execution_count": 22,
   "id": "ea1deaf7",
   "metadata": {},
   "outputs": [
    {
     "data": {
      "text/plain": [
       "array([0, 1])"
      ]
     },
     "execution_count": 22,
     "metadata": {},
     "output_type": "execute_result"
    }
   ],
   "source": [
    "df['Bloody_Vaginal_Discharge'].unique()"
   ]
  },
  {
   "cell_type": "code",
   "execution_count": 23,
   "id": "38605086",
   "metadata": {},
   "outputs": [
    {
     "data": {
      "text/plain": [
       "array(['no ', 'no', 'yes', 'No', 'YES', 'NO', 'yes ', 'NO ', 'Yes', 'np',\n",
       "       'n o', 'YES '], dtype=object)"
      ]
     },
     "execution_count": 23,
     "metadata": {},
     "output_type": "execute_result"
    }
   ],
   "source": [
    "df['STI_Status'].unique()"
   ]
  },
  {
   "cell_type": "code",
   "execution_count": 24,
   "id": "bd640c15",
   "metadata": {},
   "outputs": [],
   "source": [
    "STI_STATUS={\n",
    "    'No':0,\n",
    "    'no':0,\n",
    "    'n o':0,\n",
    "    'NO ':0,\n",
    "    'YES':1,\n",
    "    'no ':0,\n",
    "    'NO':0,\n",
    "    'Yes':1,\n",
    "    'np':0,\n",
    "    'yes':1,\n",
    "    'yes ':1,\n",
    "    'YES ':1,\n",
    "    \n",
    "}"
   ]
  },
  {
   "cell_type": "code",
   "execution_count": 25,
   "id": "18564116",
   "metadata": {},
   "outputs": [],
   "source": [
    "df['STI_Status']=df['STI_Status'].map(STI_STATUS)"
   ]
  },
  {
   "cell_type": "code",
   "execution_count": 26,
   "id": "f903051c",
   "metadata": {},
   "outputs": [
    {
     "data": {
      "text/plain": [
       "array([0, 1])"
      ]
     },
     "execution_count": 26,
     "metadata": {},
     "output_type": "execute_result"
    }
   ],
   "source": [
    "df['STI_Status'].unique()"
   ]
  },
  {
   "cell_type": "code",
   "execution_count": 27,
   "id": "3ee8a8ea",
   "metadata": {},
   "outputs": [
    {
     "data": {
      "text/plain": [
       "array(['NO', 'yes', 'YES', 'ND', 'NO ', 'Yes'], dtype=object)"
      ]
     },
     "execution_count": 27,
     "metadata": {},
     "output_type": "execute_result"
    }
   ],
   "source": [
    "df['Family_History_Of_Ca'].unique()"
   ]
  },
  {
   "cell_type": "code",
   "execution_count": 28,
   "id": "4d866173",
   "metadata": {},
   "outputs": [],
   "source": [
    "history ={\n",
    "   'yes':1,\n",
    "    'NO':0,\n",
    "    'NO ':0,\n",
    "    'Yes':1,\n",
    "    'YES':1,\n",
    "    'ND':0,\n",
    "}"
   ]
  },
  {
   "cell_type": "code",
   "execution_count": 29,
   "id": "d5d7a267",
   "metadata": {},
   "outputs": [
    {
     "data": {
      "text/plain": [
       "NO     699\n",
       "YES    190\n",
       "yes     34\n",
       "ND       2\n",
       "NO       2\n",
       "Yes      2\n",
       "Name: Family_History_Of_Ca, dtype: int64"
      ]
     },
     "execution_count": 29,
     "metadata": {},
     "output_type": "execute_result"
    }
   ],
   "source": [
    "df['Family_History_Of_Ca'].value_counts()"
   ]
  },
  {
   "cell_type": "code",
   "execution_count": 30,
   "id": "532e9d62",
   "metadata": {},
   "outputs": [],
   "source": [
    "df['Family_History_Of_Ca']=df['Family_History_Of_Ca'].map(history)"
   ]
  },
  {
   "cell_type": "code",
   "execution_count": 31,
   "id": "08c3e0a7",
   "metadata": {},
   "outputs": [
    {
     "data": {
      "text/plain": [
       "array([0, 1])"
      ]
     },
     "execution_count": 31,
     "metadata": {},
     "output_type": "execute_result"
    }
   ],
   "source": [
    "df['Family_History_Of_Ca'].unique()"
   ]
  },
  {
   "cell_type": "code",
   "execution_count": 32,
   "id": "9726431f",
   "metadata": {},
   "outputs": [
    {
     "data": {
      "text/plain": [
       "array(['No', 'yes ', 'Yes '], dtype=object)"
      ]
     },
     "execution_count": 32,
     "metadata": {},
     "output_type": "execute_result"
    }
   ],
   "source": [
    "df['Bleeding_History'].unique()"
   ]
  },
  {
   "cell_type": "code",
   "execution_count": 33,
   "id": "407d9349",
   "metadata": {},
   "outputs": [
    {
     "data": {
      "text/plain": [
       "array([0, 1])"
      ]
     },
     "execution_count": 33,
     "metadata": {},
     "output_type": "execute_result"
    }
   ],
   "source": [
    "history2={\n",
    "    'No':0,\n",
    "    'yes ':1,\n",
    "    'Yes ':1,\n",
    "}\n",
    "df['Bleeding_History']=df['Bleeding_History'].map(history2)\n",
    "df['Bleeding_History'].unique()"
   ]
  },
  {
   "cell_type": "code",
   "execution_count": 34,
   "id": "3b3bccd1",
   "metadata": {},
   "outputs": [
    {
     "data": {
      "text/plain": [
       "array(['yes ', 'no ', 'Yes ', 'No', 'NO ', ' No ', 'YES '], dtype=object)"
      ]
     },
     "execution_count": 34,
     "metadata": {},
     "output_type": "execute_result"
    }
   ],
   "source": [
    "df['History_Of_STIs'].unique()"
   ]
  },
  {
   "cell_type": "code",
   "execution_count": 35,
   "id": "dfe54e64",
   "metadata": {},
   "outputs": [
    {
     "data": {
      "text/plain": [
       "array([1, 0])"
      ]
     },
     "execution_count": 35,
     "metadata": {},
     "output_type": "execute_result"
    }
   ],
   "source": [
    "history3={\n",
    "    'Yes ':1,\n",
    "    ' No ':0,\n",
    "    'no ':0,\n",
    "    'NO ':0,\n",
    "    'yes ':1,\n",
    "    'YES ':1,\n",
    "    'No':0,\n",
    "}\n",
    "df['History_Of_STIs']=df['History_Of_STIs'].map(history3)\n",
    "df['History_Of_STIs'].unique()"
   ]
  },
  {
   "cell_type": "code",
   "execution_count": 36,
   "id": "b991e1f7",
   "metadata": {},
   "outputs": [
    {
     "data": {
      "text/plain": [
       "array(['no ', 'no', 'yes', 'yes ', 'NO', 'NO ', 'No', 'YES', 'YES ', 'np',\n",
       "       'n'], dtype=object)"
      ]
     },
     "execution_count": 36,
     "metadata": {},
     "output_type": "execute_result"
    }
   ],
   "source": [
    "df['Use_of_IUDs'].unique()"
   ]
  },
  {
   "cell_type": "code",
   "execution_count": 37,
   "id": "86a523ad",
   "metadata": {},
   "outputs": [
    {
     "data": {
      "text/plain": [
       "array([0, 1])"
      ]
     },
     "execution_count": 37,
     "metadata": {},
     "output_type": "execute_result"
    }
   ],
   "source": [
    "history4={\n",
    "    'yes':1,\n",
    "    'No':0,\n",
    "    'no ':0,\n",
    "    'no':0,\n",
    "    'NO':0,\n",
    "    'YES':0,\n",
    "    'NO ':0,\n",
    "    'n':0,\n",
    "    'yes ':1,\n",
    "    'YES ':1,\n",
    "    'np':0,\n",
    "}\n",
    "df['Use_of_IUDs']=df['Use_of_IUDs'].map(history4)\n",
    "df['Use_of_IUDs'].unique()"
   ]
  },
  {
   "cell_type": "code",
   "execution_count": 38,
   "id": "9dd35c1a",
   "metadata": {},
   "outputs": [
    {
     "data": {
      "text/plain": [
       "array([ 24,  22,  16,  18,  17,  15,  19,  21, 117,  20,  14,  23,  13,\n",
       "        26])"
      ]
     },
     "execution_count": 38,
     "metadata": {},
     "output_type": "execute_result"
    }
   ],
   "source": [
    "df['Age_At_First_Sexual_Intercourse'].unique()"
   ]
  },
  {
   "cell_type": "code",
   "execution_count": 39,
   "id": "17c3842d",
   "metadata": {},
   "outputs": [],
   "source": [
    "age = {\n",
    "       117:17\n",
    "}\n",
    "df['Age_At_First_Sexual_Intercourse']=df['Age_At_First_Sexual_Intercourse'].replace(age)"
   ]
  },
  {
   "cell_type": "code",
   "execution_count": 40,
   "id": "54a76110",
   "metadata": {},
   "outputs": [
    {
     "data": {
      "text/plain": [
       "array([24, 22, 16, 18, 17, 15, 19, 21, 20, 14, 23, 13, 26])"
      ]
     },
     "execution_count": 40,
     "metadata": {},
     "output_type": "execute_result"
    }
   ],
   "source": [
    "df['Age_At_First_Sexual_Intercourse'].unique()"
   ]
  },
  {
   "cell_type": "code",
   "execution_count": 41,
   "id": "f332d3ff",
   "metadata": {},
   "outputs": [
    {
     "data": {
      "text/plain": [
       "array(['NEG', 'NR', 'POS', 'NEG ', 'ND ', 'pos', 'ND', 'POS '],\n",
       "      dtype=object)"
      ]
     },
     "execution_count": 41,
     "metadata": {},
     "output_type": "execute_result"
    }
   ],
   "source": [
    "df['HPV_STATUS'].unique()"
   ]
  },
  {
   "cell_type": "code",
   "execution_count": 42,
   "id": "ece1f5e9",
   "metadata": {},
   "outputs": [
    {
     "data": {
      "text/plain": [
       "array([0, 3, 1])"
      ]
     },
     "execution_count": 42,
     "metadata": {},
     "output_type": "execute_result"
    }
   ],
   "source": [
    "cancer={\n",
    "   'NEG':0,\n",
    "    'NR':3,\n",
    "    'ND':3,\n",
    "    'ND ':3,\n",
    "    'POS':1,\n",
    "    'NEG ':0,\n",
    "    'pos':1,\n",
    "    'POS ':1,\n",
    "}\n",
    "df['HPV_STATUS']=df['HPV_STATUS'].replace(cancer)\n",
    "df['HPV_STATUS'].unique()"
   ]
  },
  {
   "cell_type": "code",
   "execution_count": 43,
   "id": "b6d07436",
   "metadata": {},
   "outputs": [
    {
     "name": "stdout",
     "output_type": "stream",
     "text": [
      "0    840\n",
      "1     83\n",
      "3      6\n",
      "Name: HPV_STATUS, dtype: int64\n"
     ]
    }
   ],
   "source": [
    "count=df['HPV_STATUS'].value_counts()\n",
    "print(count)"
   ]
  },
  {
   "cell_type": "code",
   "execution_count": 44,
   "id": "ab104fbb",
   "metadata": {},
   "outputs": [],
   "source": [
    "df = df[df['HPV_STATUS'] != 3]"
   ]
  },
  {
   "cell_type": "code",
   "execution_count": 45,
   "id": "5ddbf966",
   "metadata": {},
   "outputs": [
    {
     "name": "stdout",
     "output_type": "stream",
     "text": [
      "0    840\n",
      "1     83\n",
      "Name: HPV_STATUS, dtype: int64\n"
     ]
    }
   ],
   "source": [
    "count=df['HPV_STATUS'].value_counts()\n",
    "print(count)"
   ]
  },
  {
   "cell_type": "code",
   "execution_count": 46,
   "id": "e37b5a62",
   "metadata": {},
   "outputs": [
    {
     "name": "stdout",
     "output_type": "stream",
     "text": [
      "Yes    846\n",
      "NO      77\n",
      "Name: Circumcised_Partner, dtype: int64\n"
     ]
    }
   ],
   "source": [
    "count=df['Circumcised_Partner'].value_counts()\n",
    "print(count)"
   ]
  },
  {
   "cell_type": "code",
   "execution_count": 47,
   "id": "6b350059",
   "metadata": {},
   "outputs": [
    {
     "data": {
      "text/plain": [
       "array([1, 0])"
      ]
     },
     "execution_count": 47,
     "metadata": {},
     "output_type": "execute_result"
    }
   ],
   "source": [
    "circumcised = {\n",
    "    'Yes':1,\n",
    "    'NO':0,    \n",
    "}\n",
    "df['Circumcised_Partner']=df['Circumcised_Partner'].map(circumcised)\n",
    "df['Circumcised_Partner'].unique()"
   ]
  },
  {
   "cell_type": "code",
   "execution_count": 48,
   "id": "2075ecb1",
   "metadata": {},
   "outputs": [
    {
     "name": "stdout",
     "output_type": "stream",
     "text": [
      "None      839\n",
      "Smokes     84\n",
      "Name: Smoking, dtype: int64\n"
     ]
    }
   ],
   "source": [
    "count=df['Smoking'].value_counts()\n",
    "print(count)"
   ]
  },
  {
   "cell_type": "code",
   "execution_count": 49,
   "id": "00087bbd",
   "metadata": {},
   "outputs": [
    {
     "data": {
      "text/plain": [
       "array([0, 1])"
      ]
     },
     "execution_count": 49,
     "metadata": {},
     "output_type": "execute_result"
    }
   ],
   "source": [
    "smoking = {\n",
    "    'None':0,\n",
    "    'Smokes':1,    \n",
    "}\n",
    "df['Smoking']=df['Smoking'].map(smoking)\n",
    "df['Smoking'].unique()"
   ]
  },
  {
   "cell_type": "code",
   "execution_count": 50,
   "id": "ab354b34",
   "metadata": {},
   "outputs": [
    {
     "name": "stdout",
     "output_type": "stream",
     "text": [
      "NO     698\n",
      "YES    225\n",
      "Name: Multiple_Sex_Partners, dtype: int64\n"
     ]
    }
   ],
   "source": [
    " count=df['Multiple_Sex_Partners'].value_counts()\n",
    "print(count) "
   ]
  },
  {
   "cell_type": "code",
   "execution_count": 51,
   "id": "072ec945",
   "metadata": {},
   "outputs": [
    {
     "data": {
      "text/plain": [
       "array([0, 1])"
      ]
     },
     "execution_count": 51,
     "metadata": {},
     "output_type": "execute_result"
    }
   ],
   "source": [
    "partners = {\n",
    "    'NO':0,\n",
    "    'YES':1,    \n",
    "}\n",
    "df['Multiple_Sex_Partners']=df['Multiple_Sex_Partners'].map(partners)\n",
    "df['Multiple_Sex_Partners'].unique()"
   ]
  },
  {
   "cell_type": "code",
   "execution_count": 52,
   "id": "faa9c8f6",
   "metadata": {},
   "outputs": [
    {
     "data": {
      "text/plain": [
       "array([0, 1])"
      ]
     },
     "execution_count": 52,
     "metadata": {},
     "output_type": "execute_result"
    }
   ],
   "source": [
    "df['Bloody_Vaginal_Discharge'].unique()"
   ]
  },
  {
   "cell_type": "code",
   "execution_count": 53,
   "id": "f6c17599",
   "metadata": {},
   "outputs": [
    {
     "name": "stdout",
     "output_type": "stream",
     "text": [
      "Shapiro-Wilk Test:\n",
      "Statistic: 0.9820540547370911\n",
      "p-value: 3.141987336974239e-09\n",
      "Is the data normally distributed (p-value < alpha)? False\n",
      "\n",
      "D'Agostino and Pearson's Test:\n",
      "Statistic: 17.96269832383553\n",
      "p-value: 0.00012573309870953406\n",
      "Is the data normally distributed (p-value < alpha)? False\n"
     ]
    },
    {
     "data": {
      "image/png": "[encoded data removed]",
      "text/plain": [
       "<Figure size 1400x800 with 1 Axes>"
      ]
     },
     "metadata": {},
     "output_type": "display_data"
    }
   ],
   "source": [
    "import numpy as np\n",
    "from scipy import stats\n",
    "import statsmodels.api as sm\n",
    "import matplotlib.pyplot as plt\n",
    "\n",
    "statistic, p_value = stats.shapiro(df['Age'])\n",
    "alpha = 0.05\n",
    "print(\"Shapiro-Wilk Test:\")\n",
    "print(\"Statistic:\", statistic)\n",
    "print(\"p-value:\", p_value)\n",
    "print(\"Is the data normally distributed (p-value < alpha)?\", p_value > alpha)\n",
    "\n",
    "\n",
    "k2, p_value = stats.normaltest(df['Age'])\n",
    "print(\"\\nD'Agostino and Pearson's Test:\")\n",
    "print(\"Statistic:\", k2)\n",
    "print(\"p-value:\", p_value)\n",
    "print(\"Is the data normally distributed (p-value < alpha)?\", p_value > alpha)\n",
    "\n",
    "sm.qqplot(df['Age'], line='s')\n",
    "plt.title(\"Q-Q Plot\")\n",
    "plt.show()\n"
   ]
  },
  {
   "cell_type": "code",
   "execution_count": 54,
   "id": "46489be5",
   "metadata": {},
   "outputs": [
    {
     "name": "stdout",
     "output_type": "stream",
     "text": [
      "Mann-Whitney U Test:\n",
      "Statistic: 851929.0\n",
      "p-value: 0.0\n",
      "Are the distributions significantly different (p-value < alpha)? True\n"
     ]
    }
   ],
   "source": [
    "from scipy.stats import mannwhitneyu\n",
    "statistic, p_value = mannwhitneyu(df['Age'], df['HPV_STATUS'], alternative='two-sided')\n",
    "alpha = 0.05\n",
    "print(\"Mann-Whitney U Test:\")\n",
    "print(\"Statistic:\", statistic)\n",
    "print(\"p-value:\", p_value)\n",
    "print(\"Are the distributions significantly different (p-value < alpha)?\", p_value < alpha)"
   ]
  },
  {
   "cell_type": "markdown",
   "id": "eb5c12f1",
   "metadata": {},
   "source": [
    "Meaning the data is not normaly distributed and that age is statistically significant to HPV"
   ]
  },
  {
   "cell_type": "code",
   "execution_count": 55,
   "id": "a2036dd4",
   "metadata": {},
   "outputs": [
    {
     "name": "stdout",
     "output_type": "stream",
     "text": [
      "Shapiro-Wilk Test:\n",
      "Statistic: 0.951757550239563\n",
      "p-value: 7.929718634891827e-17\n",
      "Is the data normally distributed (p-value < alpha)? False\n",
      "\n",
      "D'Agostino and Pearson's Test:\n",
      "Statistic: 50.5004598820929\n",
      "p-value: 1.0813454814278793e-11\n",
      "Is the data normally distributed (p-value < alpha)? False\n"
     ]
    },
    {
     "data": {
      "image/png": "[encoded data removed]",
      "text/plain": [
       "<Figure size 1400x800 with 1 Axes>"
      ]
     },
     "metadata": {},
     "output_type": "display_data"
    }
   ],
   "source": [
    "statistic, p_value = stats.shapiro(df['Age_At_First_Sexual_Intercourse'])\n",
    "alpha = 0.05\n",
    "print(\"Shapiro-Wilk Test:\")\n",
    "print(\"Statistic:\", statistic)\n",
    "print(\"p-value:\", p_value)\n",
    "print(\"Is the data normally distributed (p-value < alpha)?\", p_value > alpha)\n",
    "\n",
    "\n",
    "k2, p_value = stats.normaltest(df['Age_At_First_Sexual_Intercourse'])\n",
    "print(\"\\nD'Agostino and Pearson's Test:\")\n",
    "print(\"Statistic:\", k2)\n",
    "print(\"p-value:\", p_value)\n",
    "print(\"Is the data normally distributed (p-value < alpha)?\", p_value > alpha)\n",
    "\n",
    "sm.qqplot(df['Age'], line='s')\n",
    "plt.title(\"Q-Q Plot\")\n",
    "plt.show()\n"
   ]
  },
  {
   "cell_type": "code",
   "execution_count": 56,
   "id": "7bc8a4d8",
   "metadata": {},
   "outputs": [
    {
     "name": "stdout",
     "output_type": "stream",
     "text": [
      "Mann-Whitney U Test:\n",
      "Statistic: 851929.0\n",
      "p-value: 0.0\n",
      "Are the distributions significantly different (p-value < alpha)? True\n"
     ]
    }
   ],
   "source": [
    "from scipy.stats import mannwhitneyu\n",
    "statistic, p_value = mannwhitneyu(df['Age_At_First_Sexual_Intercourse'], df['HPV_STATUS'], alternative='two-sided')\n",
    "alpha = 0.05\n",
    "print(\"Mann-Whitney U Test:\")\n",
    "print(\"Statistic:\", statistic)\n",
    "print(\"p-value:\", p_value)\n",
    "print(\"Are the distributions significantly different (p-value < alpha)?\", p_value < alpha)"
   ]
  },
  {
   "cell_type": "markdown",
   "id": "b4579e57",
   "metadata": {},
   "source": [
    "Age_At_First_Sexual_Intercourse is statistically significant and has an effect on HPV"
   ]
  },
  {
   "cell_type": "code",
   "execution_count": 57,
   "id": "0387ae1f",
   "metadata": {},
   "outputs": [
    {
     "data": {
      "image/png": "[encoded data removed]",
      "text/plain": [
       "<Figure size 1400x800 with 1 Axes>"
      ]
     },
     "metadata": {},
     "output_type": "display_data"
    }
   ],
   "source": [
    "import matplotlib.pyplot as plt\n",
    "\n",
    "counts = df['Marital_Status'].value_counts()\n",
    "grouped_counts = df.groupby('HPV_STATUS')['Marital_Status'].value_counts()\n",
    "\n",
    "\n",
    "grouped_counts = grouped_counts.reindex(pd.MultiIndex.from_product([df['HPV_STATUS'].unique(), df['Marital_Status'].unique()]))\n",
    "\n",
    "grouped_counts = grouped_counts.unstack()\n",
    "\n",
    "# Plot the grouped bar graph\n",
    "grouped_counts.plot(kind='bar')\n",
    "plt.xlabel('HPV_STATUS')\n",
    "plt.ylabel('Counts')\n",
    "plt.title('Grouped Bar Graph of Marital Status by HPV_STATUS')\n",
    "plt.legend(title='Marital Status')\n",
    "\n",
    "# Show the graph\n",
    "plt.show()"
   ]
  },
  {
   "cell_type": "code",
   "execution_count": 58,
   "id": "0f7d2b79",
   "metadata": {},
   "outputs": [
    {
     "data": {
      "text/plain": [
       "Index(['Marital_Status', 'Occupation', 'Age', 'HIV_Status', 'STI_Status',\n",
       "       'Bloody_Vaginal_Discharge', 'Family_History_Of_Ca', 'Bleeding_History',\n",
       "       'History_Of_STIs', 'Use_of_IUDs', 'Age_At_First_Sexual_Intercourse',\n",
       "       'Multiple_Sex_Partners', 'Smoking', 'Circumcised_Partner',\n",
       "       'HPV_STATUS'],\n",
       "      dtype='object')"
      ]
     },
     "execution_count": 58,
     "metadata": {},
     "output_type": "execute_result"
    }
   ],
   "source": [
    "df.columns"
   ]
  },
  {
   "cell_type": "code",
   "execution_count": 59,
   "id": "e6405135",
   "metadata": {},
   "outputs": [
    {
     "data": {
      "image/png": "[encoded data removed]",
      "text/plain": [
       "<Figure size 1400x800 with 1 Axes>"
      ]
     },
     "metadata": {},
     "output_type": "display_data"
    }
   ],
   "source": [
    "counts = df['Occupation'].value_counts()\n",
    "grouped_counts = df.groupby('HPV_STATUS')['Occupation'].value_counts()\n",
    "\n",
    "\n",
    "grouped_counts = grouped_counts.reindex(pd.MultiIndex.from_product([df['HPV_STATUS'].unique(), df['Occupation'].unique()]))\n",
    "grouped_counts = grouped_counts.unstack()\n",
    "\n",
    "grouped_counts.plot(kind='bar')\n",
    "plt.xlabel('Occupation')\n",
    "plt.ylabel('Counts')\n",
    "plt.title('Grouped Bar Graph of Occupation by HPV_STATUS')\n",
    "plt.legend(title='Occupation')\n",
    "\n",
    "# Show the graph\n",
    "plt.show()"
   ]
  },
  {
   "cell_type": "code",
   "execution_count": 60,
   "id": "a0a40a16",
   "metadata": {},
   "outputs": [
    {
     "data": {
      "image/png": "[encoded data removed]",
      "text/plain": [
       "<Figure size 1400x800 with 1 Axes>"
      ]
     },
     "metadata": {},
     "output_type": "display_data"
    }
   ],
   "source": [
    "counts = df['HIV_Status'].value_counts()\n",
    "grouped_counts = df.groupby('HPV_STATUS')['HIV_Status'].value_counts()\n",
    "\n",
    "\n",
    "grouped_counts = grouped_counts.reindex(pd.MultiIndex.from_product([df['HPV_STATUS'].unique(), df['HIV_Status'].unique()]))\n",
    "grouped_counts = grouped_counts.unstack()\n",
    "\n",
    "grouped_counts.plot(kind='bar')\n",
    "plt.xlabel('Occupation')\n",
    "plt.ylabel('Counts')\n",
    "plt.title('Grouped Bar Graph of HIV_Status by HPV_STATUS')\n",
    "plt.legend(title='HIV_Status')\n",
    "\n",
    "# Show the graph\n",
    "plt.show()"
   ]
  },
  {
   "cell_type": "code",
   "execution_count": 61,
   "id": "a4c8dbac",
   "metadata": {},
   "outputs": [],
   "source": [
    "# Drop rows where 'Variable_1' is equal to 20\n",
    "df = df.drop(df[df['HIV_Status'] ==3].index)"
   ]
  },
  {
   "cell_type": "markdown",
   "id": "d13b9636",
   "metadata": {},
   "source": [
    "drop HIV = 3 that is NA"
   ]
  },
  {
   "cell_type": "code",
   "execution_count": 62,
   "id": "97468734",
   "metadata": {},
   "outputs": [
    {
     "data": {
      "image/png": "[encoded data removed]",
      "text/plain": [
       "<Figure size 1400x800 with 1 Axes>"
      ]
     },
     "metadata": {},
     "output_type": "display_data"
    }
   ],
   "source": [
    "counts = df['STI_Status'].value_counts()\n",
    "grouped_counts = df.groupby('HPV_STATUS')['STI_Status'].value_counts()\n",
    "\n",
    "\n",
    "grouped_counts = grouped_counts.reindex(pd.MultiIndex.from_product([df['HPV_STATUS'].unique(), df['STI_Status'].unique()]))\n",
    "grouped_counts = grouped_counts.unstack()\n",
    "\n",
    "grouped_counts.plot(kind='bar')\n",
    "plt.xlabel('Occupation')\n",
    "plt.ylabel('Counts')\n",
    "plt.title('Grouped Bar Graph of STI_Status by HPV_STATUS')\n",
    "plt.legend(title='STI_Status')\n",
    "\n",
    "# Show the graph\n",
    "plt.show()"
   ]
  },
  {
   "cell_type": "code",
   "execution_count": 63,
   "id": "d3719439",
   "metadata": {},
   "outputs": [
    {
     "data": {
      "image/png": "[encoded data removed]",
      "text/plain": [
       "<Figure size 1400x800 with 1 Axes>"
      ]
     },
     "metadata": {},
     "output_type": "display_data"
    }
   ],
   "source": [
    "counts = df['STI_Status'].value_counts()\n",
    "grouped_counts = df.groupby('HPV_STATUS')['Bloody_Vaginal_Discharge'].value_counts()\n",
    "\n",
    "\n",
    "grouped_counts = grouped_counts.reindex(pd.MultiIndex.from_product([df['HPV_STATUS'].unique(), df['Bloody_Vaginal_Discharge'].unique()]))\n",
    "grouped_counts = grouped_counts.unstack()\n",
    "\n",
    "grouped_counts.plot(kind='bar')\n",
    "plt.xlabel('Occupation')\n",
    "plt.ylabel('Counts')\n",
    "plt.title('Grouped Bar Graph of Bloody_Vaginal_Discharge by HPV_STATUS')\n",
    "plt.legend(title='Bloody_Vaginal_Discharge')\n",
    "\n",
    "# Show the graph\n",
    "plt.show()"
   ]
  },
  {
   "cell_type": "code",
   "execution_count": 64,
   "id": "326fdcda",
   "metadata": {},
   "outputs": [
    {
     "data": {
      "image/png": "[encoded data removed]",
      "text/plain": [
       "<Figure size 1400x800 with 1 Axes>"
      ]
     },
     "metadata": {},
     "output_type": "display_data"
    }
   ],
   "source": [
    "counts = df['STI_Status'].value_counts()\n",
    "grouped_counts = df.groupby('HPV_STATUS')['Family_History_Of_Ca'].value_counts()\n",
    "\n",
    "\n",
    "grouped_counts = grouped_counts.reindex(pd.MultiIndex.from_product([df['HPV_STATUS'].unique(), df['Family_History_Of_Ca'].unique()]))\n",
    "grouped_counts = grouped_counts.unstack()\n",
    "\n",
    "grouped_counts.plot(kind='bar')\n",
    "plt.xlabel('HPV STATUS')\n",
    "plt.ylabel('Counts')\n",
    "plt.title('Grouped Bar Graph of Family_History_Of_Ca by HPV_STATUS')\n",
    "plt.legend(title='Bloody_Vaginal_Discharge')\n",
    "\n",
    "# Show the graph\n",
    "plt.show()"
   ]
  },
  {
   "cell_type": "code",
   "execution_count": 65,
   "id": "051908cc",
   "metadata": {},
   "outputs": [
    {
     "data": {
      "image/png": "[encoded data removed]",
      "text/plain": [
       "<Figure size 1400x800 with 1 Axes>"
      ]
     },
     "metadata": {},
     "output_type": "display_data"
    }
   ],
   "source": [
    "\n",
    "counts = df['Multiple_Sex_Partners'].value_counts()\n",
    "grouped_counts = df.groupby('HPV_STATUS')['Multiple_Sex_Partners'].value_counts()\n",
    "\n",
    "\n",
    "grouped_counts = grouped_counts.reindex(pd.MultiIndex.from_product([df['HPV_STATUS'].unique(), df['Multiple_Sex_Partners'].unique()]))\n",
    "grouped_counts = grouped_counts.unstack()\n",
    "\n",
    "grouped_counts.plot(kind='bar')\n",
    "plt.xlabel('HPV STATUS')\n",
    "plt.ylabel('Counts')\n",
    "plt.title('Grouped Bar Graph of Multiple_Sex_Partners by HPV_STATUS')\n",
    "plt.legend(title='Multiple_Sex_Partners')\n",
    "\n",
    "# Show the graph\n",
    "plt.show()"
   ]
  },
  {
   "cell_type": "code",
   "execution_count": 66,
   "id": "74f5ed11",
   "metadata": {},
   "outputs": [
    {
     "data": {
      "image/png": "[encoded data removed]",
      "text/plain": [
       "<Figure size 1400x800 with 1 Axes>"
      ]
     },
     "metadata": {},
     "output_type": "display_data"
    }
   ],
   "source": [
    "counts = df['Circumcised_Partner'].value_counts()\n",
    "grouped_counts = df.groupby('HPV_STATUS')['Circumcised_Partner'].value_counts()\n",
    "\n",
    "\n",
    "grouped_counts = grouped_counts.reindex(pd.MultiIndex.from_product([df['HPV_STATUS'].unique(), df['Circumcised_Partner'].unique()]))\n",
    "grouped_counts = grouped_counts.unstack()\n",
    "\n",
    "grouped_counts.plot(kind='bar')\n",
    "plt.xlabel('HPV STATUS')\n",
    "plt.ylabel('Counts')\n",
    "plt.title('Grouped Bar Graph of Circumcised_Partner by HPV_STATUS')\n",
    "plt.legend(title='Circumcised_Partner')\n",
    "\n",
    "# Show the graph\n",
    "plt.show()\n"
   ]
  },
  {
   "cell_type": "code",
   "execution_count": 67,
   "id": "52803925",
   "metadata": {},
   "outputs": [
    {
     "name": "stdout",
     "output_type": "stream",
     "text": [
      "Chi-square test for 'Marital_Status' against 'HPV_STATUS':\n",
      "Chi2 statistic: 4.297518387296588\n",
      "p-value: 0.23107799820711575\n",
      "Are the variables associated (p-value < alpha)? False\n",
      "----------------------------------------------------\n",
      "Chi-square test for 'Occupation' against 'HPV_STATUS':\n",
      "Chi2 statistic: 0.0\n",
      "p-value: 1.0\n",
      "Are the variables associated (p-value < alpha)? False\n",
      "----------------------------------------------------\n",
      "Chi-square test for 'Age' against 'HPV_STATUS':\n",
      "Chi2 statistic: 175.97762728865052\n",
      "p-value: 1.1952350205797107e-18\n",
      "Are the variables associated (p-value < alpha)? True\n",
      "----------------------------------------------------\n",
      "Chi-square test for 'HIV_Status' against 'HPV_STATUS':\n",
      "Chi2 statistic: 20.404767866436472\n",
      "p-value: 6.267345446509451e-06\n",
      "Are the variables associated (p-value < alpha)? True\n",
      "----------------------------------------------------\n",
      "Chi-square test for 'STI_Status' against 'HPV_STATUS':\n",
      "Chi2 statistic: 6.537522994021666\n",
      "p-value: 0.010562231458713704\n",
      "Are the variables associated (p-value < alpha)? True\n",
      "----------------------------------------------------\n",
      "Chi-square test for 'Bloody_Vaginal_Discharge' against 'HPV_STATUS':\n",
      "Chi2 statistic: 30.21487400611308\n",
      "p-value: 3.867321814157734e-08\n",
      "Are the variables associated (p-value < alpha)? True\n",
      "----------------------------------------------------\n",
      "Chi-square test for 'Family_History_Of_Ca' against 'HPV_STATUS':\n",
      "Chi2 statistic: 148.90914504908147\n",
      "p-value: 3.0019280982084337e-34\n",
      "Are the variables associated (p-value < alpha)? True\n",
      "----------------------------------------------------\n",
      "Chi-square test for 'Bleeding_History' against 'HPV_STATUS':\n",
      "Chi2 statistic: 30.21487400611308\n",
      "p-value: 3.867321814157734e-08\n",
      "Are the variables associated (p-value < alpha)? True\n",
      "----------------------------------------------------\n",
      "Chi-square test for 'History_Of_STIs' against 'HPV_STATUS':\n",
      "Chi2 statistic: 3.9184631204660803\n",
      "p-value: 0.047758521683112426\n",
      "Are the variables associated (p-value < alpha)? True\n",
      "----------------------------------------------------\n",
      "Chi-square test for 'Use_of_IUDs' against 'HPV_STATUS':\n",
      "Chi2 statistic: 144.19924560398968\n",
      "p-value: 3.2138750104873447e-33\n",
      "Are the variables associated (p-value < alpha)? True\n",
      "----------------------------------------------------\n",
      "Chi-square test for 'Age_At_First_Sexual_Intercourse' against 'HPV_STATUS':\n",
      "Chi2 statistic: 12.593257106432976\n",
      "p-value: 0.3992839229652982\n",
      "Are the variables associated (p-value < alpha)? False\n",
      "----------------------------------------------------\n",
      "Chi-square test for 'Multiple_Sex_Partners' against 'HPV_STATUS':\n",
      "Chi2 statistic: 3.6272036934136014\n",
      "p-value: 0.05684224636905404\n",
      "Are the variables associated (p-value < alpha)? False\n",
      "----------------------------------------------------\n",
      "Chi-square test for 'Smoking' against 'HPV_STATUS':\n",
      "Chi2 statistic: 142.0388859379542\n",
      "p-value: 9.536273632159426e-33\n",
      "Are the variables associated (p-value < alpha)? True\n",
      "----------------------------------------------------\n",
      "Chi-square test for 'Circumcised_Partner' against 'HPV_STATUS':\n",
      "Chi2 statistic: 79.80137365291985\n",
      "p-value: 4.140047966063062e-19\n",
      "Are the variables associated (p-value < alpha)? True\n",
      "----------------------------------------------------\n"
     ]
    }
   ],
   "source": [
    "import pandas as pd\n",
    "from scipy.stats import chi2_contingency\n",
    "\n",
    "categorical_columns = [col for col in df.columns if col != 'HPV_STATUS']\n",
    "\n",
    "# Perform chi-square test for each categorical variable against 'HPV_STATUS'\n",
    "alpha = 0.05\n",
    "for col in categorical_columns:\n",
    "    contingency_table = pd.crosstab(df[col], df['HPV_STATUS'])\n",
    "    chi2, p_value, dof, expected = chi2_contingency(contingency_table)\n",
    "    print(f\"Chi-square test for '{col}' against 'HPV_STATUS':\")\n",
    "    print(\"Chi2 statistic:\", chi2)\n",
    "    print(\"p-value:\", p_value)\n",
    "    print(\"Are the variables associated (p-value < alpha)?\", p_value < alpha)\n",
    "    print(\"----------------------------------------------------\")\n"
   ]
  },
  {
   "cell_type": "markdown",
   "id": "bd52a7d7",
   "metadata": {},
   "source": [
    "Marital status, Occupation, Multiple Sex Partners, smoking not statistically significant"
   ]
  },
  {
   "cell_type": "code",
   "execution_count": 68,
   "id": "2c7dbb63",
   "metadata": {},
   "outputs": [],
   "source": [
    "cols_to_drop = ['Marital_Status','Occupation','Multiple_Sex_Partners','Smoking']"
   ]
  },
  {
   "cell_type": "code",
   "execution_count": 69,
   "id": "c18558b2",
   "metadata": {},
   "outputs": [],
   "source": [
    "df=df.drop(cols_to_drop, axis=1)"
   ]
  },
  {
   "cell_type": "code",
   "execution_count": 70,
   "id": "b43fa9d2",
   "metadata": {},
   "outputs": [
    {
     "data": {
      "text/html": [
       "<div>\n",
       "<style scoped>\n",
       "    .dataframe tbody tr th:only-of-type {\n",
       "        vertical-align: middle;\n",
       "    }\n",
       "\n",
       "    .dataframe tbody tr th {\n",
       "        vertical-align: top;\n",
       "    }\n",
       "\n",
       "    .dataframe thead th {\n",
       "        text-align: right;\n",
       "    }\n",
       "</style>\n",
       "<table border=\"1\" class=\"dataframe\">\n",
       "  <thead>\n",
       "    <tr style=\"text-align: right;\">\n",
       "      <th></th>\n",
       "      <th>Age</th>\n",
       "      <th>HIV_Status</th>\n",
       "      <th>STI_Status</th>\n",
       "      <th>Bloody_Vaginal_Discharge</th>\n",
       "      <th>Family_History_Of_Ca</th>\n",
       "      <th>Bleeding_History</th>\n",
       "      <th>History_Of_STIs</th>\n",
       "      <th>Use_of_IUDs</th>\n",
       "      <th>Age_At_First_Sexual_Intercourse</th>\n",
       "      <th>Circumcised_Partner</th>\n",
       "      <th>HPV_STATUS</th>\n",
       "    </tr>\n",
       "  </thead>\n",
       "  <tbody>\n",
       "    <tr>\n",
       "      <th>0</th>\n",
       "      <td>28</td>\n",
       "      <td>1</td>\n",
       "      <td>0</td>\n",
       "      <td>0</td>\n",
       "      <td>0</td>\n",
       "      <td>0</td>\n",
       "      <td>1</td>\n",
       "      <td>0</td>\n",
       "      <td>24</td>\n",
       "      <td>1</td>\n",
       "      <td>0</td>\n",
       "    </tr>\n",
       "    <tr>\n",
       "      <th>1</th>\n",
       "      <td>32</td>\n",
       "      <td>1</td>\n",
       "      <td>0</td>\n",
       "      <td>0</td>\n",
       "      <td>0</td>\n",
       "      <td>0</td>\n",
       "      <td>0</td>\n",
       "      <td>0</td>\n",
       "      <td>22</td>\n",
       "      <td>0</td>\n",
       "      <td>0</td>\n",
       "    </tr>\n",
       "    <tr>\n",
       "      <th>2</th>\n",
       "      <td>30</td>\n",
       "      <td>2</td>\n",
       "      <td>0</td>\n",
       "      <td>1</td>\n",
       "      <td>1</td>\n",
       "      <td>1</td>\n",
       "      <td>1</td>\n",
       "      <td>0</td>\n",
       "      <td>16</td>\n",
       "      <td>1</td>\n",
       "      <td>0</td>\n",
       "    </tr>\n",
       "    <tr>\n",
       "      <th>4</th>\n",
       "      <td>36</td>\n",
       "      <td>1</td>\n",
       "      <td>1</td>\n",
       "      <td>1</td>\n",
       "      <td>0</td>\n",
       "      <td>1</td>\n",
       "      <td>0</td>\n",
       "      <td>0</td>\n",
       "      <td>17</td>\n",
       "      <td>1</td>\n",
       "      <td>0</td>\n",
       "    </tr>\n",
       "    <tr>\n",
       "      <th>5</th>\n",
       "      <td>36</td>\n",
       "      <td>2</td>\n",
       "      <td>0</td>\n",
       "      <td>1</td>\n",
       "      <td>0</td>\n",
       "      <td>1</td>\n",
       "      <td>0</td>\n",
       "      <td>0</td>\n",
       "      <td>17</td>\n",
       "      <td>1</td>\n",
       "      <td>0</td>\n",
       "    </tr>\n",
       "    <tr>\n",
       "      <th>...</th>\n",
       "      <td>...</td>\n",
       "      <td>...</td>\n",
       "      <td>...</td>\n",
       "      <td>...</td>\n",
       "      <td>...</td>\n",
       "      <td>...</td>\n",
       "      <td>...</td>\n",
       "      <td>...</td>\n",
       "      <td>...</td>\n",
       "      <td>...</td>\n",
       "      <td>...</td>\n",
       "    </tr>\n",
       "    <tr>\n",
       "      <th>924</th>\n",
       "      <td>40</td>\n",
       "      <td>2</td>\n",
       "      <td>1</td>\n",
       "      <td>0</td>\n",
       "      <td>0</td>\n",
       "      <td>0</td>\n",
       "      <td>0</td>\n",
       "      <td>0</td>\n",
       "      <td>15</td>\n",
       "      <td>1</td>\n",
       "      <td>0</td>\n",
       "    </tr>\n",
       "    <tr>\n",
       "      <th>925</th>\n",
       "      <td>43</td>\n",
       "      <td>2</td>\n",
       "      <td>0</td>\n",
       "      <td>0</td>\n",
       "      <td>0</td>\n",
       "      <td>0</td>\n",
       "      <td>0</td>\n",
       "      <td>0</td>\n",
       "      <td>16</td>\n",
       "      <td>1</td>\n",
       "      <td>0</td>\n",
       "    </tr>\n",
       "    <tr>\n",
       "      <th>926</th>\n",
       "      <td>31</td>\n",
       "      <td>2</td>\n",
       "      <td>1</td>\n",
       "      <td>0</td>\n",
       "      <td>0</td>\n",
       "      <td>0</td>\n",
       "      <td>0</td>\n",
       "      <td>1</td>\n",
       "      <td>16</td>\n",
       "      <td>1</td>\n",
       "      <td>0</td>\n",
       "    </tr>\n",
       "    <tr>\n",
       "      <th>927</th>\n",
       "      <td>35</td>\n",
       "      <td>2</td>\n",
       "      <td>0</td>\n",
       "      <td>0</td>\n",
       "      <td>0</td>\n",
       "      <td>0</td>\n",
       "      <td>0</td>\n",
       "      <td>0</td>\n",
       "      <td>18</td>\n",
       "      <td>1</td>\n",
       "      <td>0</td>\n",
       "    </tr>\n",
       "    <tr>\n",
       "      <th>928</th>\n",
       "      <td>28</td>\n",
       "      <td>2</td>\n",
       "      <td>1</td>\n",
       "      <td>0</td>\n",
       "      <td>0</td>\n",
       "      <td>0</td>\n",
       "      <td>0</td>\n",
       "      <td>0</td>\n",
       "      <td>19</td>\n",
       "      <td>1</td>\n",
       "      <td>0</td>\n",
       "    </tr>\n",
       "  </tbody>\n",
       "</table>\n",
       "<p>904 rows × 11 columns</p>\n",
       "</div>"
      ],
      "text/plain": [
       "     Age  HIV_Status  STI_Status  Bloody_Vaginal_Discharge  \\\n",
       "0     28           1           0                         0   \n",
       "1     32           1           0                         0   \n",
       "2     30           2           0                         1   \n",
       "4     36           1           1                         1   \n",
       "5     36           2           0                         1   \n",
       "..   ...         ...         ...                       ...   \n",
       "924   40           2           1                         0   \n",
       "925   43           2           0                         0   \n",
       "926   31           2           1                         0   \n",
       "927   35           2           0                         0   \n",
       "928   28           2           1                         0   \n",
       "\n",
       "     Family_History_Of_Ca  Bleeding_History  History_Of_STIs  Use_of_IUDs  \\\n",
       "0                       0                 0                1            0   \n",
       "1                       0                 0                0            0   \n",
       "2                       1                 1                1            0   \n",
       "4                       0                 1                0            0   \n",
       "5                       0                 1                0            0   \n",
       "..                    ...               ...              ...          ...   \n",
       "924                     0                 0                0            0   \n",
       "925                     0                 0                0            0   \n",
       "926                     0                 0                0            1   \n",
       "927                     0                 0                0            0   \n",
       "928                     0                 0                0            0   \n",
       "\n",
       "     Age_At_First_Sexual_Intercourse  Circumcised_Partner  HPV_STATUS  \n",
       "0                                 24                    1           0  \n",
       "1                                 22                    0           0  \n",
       "2                                 16                    1           0  \n",
       "4                                 17                    1           0  \n",
       "5                                 17                    1           0  \n",
       "..                               ...                  ...         ...  \n",
       "924                               15                    1           0  \n",
       "925                               16                    1           0  \n",
       "926                               16                    1           0  \n",
       "927                               18                    1           0  \n",
       "928                               19                    1           0  \n",
       "\n",
       "[904 rows x 11 columns]"
      ]
     },
     "execution_count": 70,
     "metadata": {},
     "output_type": "execute_result"
    }
   ],
   "source": [
    "df"
   ]
  },
  {
   "cell_type": "code",
   "execution_count": 71,
   "id": "7c1c00e7",
   "metadata": {},
   "outputs": [],
   "source": [
    "from sklearn.preprocessing import RobustScaler\n",
    "scaler = RobustScaler()\n",
    "\n",
    "# Fit and transform the column using the MinMaxScaler\n",
    "df['Normalized_Age'] = scaler.fit_transform(df[['Age']])\n"
   ]
  },
  {
   "cell_type": "code",
   "execution_count": 72,
   "id": "07b37bb8",
   "metadata": {},
   "outputs": [],
   "source": [
    "df['Normalized_Age_At_First_Sexual_Intercourse'] = scaler.fit_transform(df[['Age_At_First_Sexual_Intercourse']])"
   ]
  },
  {
   "cell_type": "code",
   "execution_count": 73,
   "id": "aeaf438a",
   "metadata": {},
   "outputs": [
    {
     "data": {
      "text/html": [
       "<div>\n",
       "<style scoped>\n",
       "    .dataframe tbody tr th:only-of-type {\n",
       "        vertical-align: middle;\n",
       "    }\n",
       "\n",
       "    .dataframe tbody tr th {\n",
       "        vertical-align: top;\n",
       "    }\n",
       "\n",
       "    .dataframe thead th {\n",
       "        text-align: right;\n",
       "    }\n",
       "</style>\n",
       "<table border=\"1\" class=\"dataframe\">\n",
       "  <thead>\n",
       "    <tr style=\"text-align: right;\">\n",
       "      <th></th>\n",
       "      <th>Age</th>\n",
       "      <th>HIV_Status</th>\n",
       "      <th>STI_Status</th>\n",
       "      <th>Bloody_Vaginal_Discharge</th>\n",
       "      <th>Family_History_Of_Ca</th>\n",
       "      <th>Bleeding_History</th>\n",
       "      <th>History_Of_STIs</th>\n",
       "      <th>Use_of_IUDs</th>\n",
       "      <th>Age_At_First_Sexual_Intercourse</th>\n",
       "      <th>Circumcised_Partner</th>\n",
       "      <th>HPV_STATUS</th>\n",
       "      <th>Normalized_Age</th>\n",
       "      <th>Normalized_Age_At_First_Sexual_Intercourse</th>\n",
       "    </tr>\n",
       "  </thead>\n",
       "  <tbody>\n",
       "    <tr>\n",
       "      <th>0</th>\n",
       "      <td>28</td>\n",
       "      <td>1</td>\n",
       "      <td>0</td>\n",
       "      <td>0</td>\n",
       "      <td>0</td>\n",
       "      <td>0</td>\n",
       "      <td>1</td>\n",
       "      <td>0</td>\n",
       "      <td>24</td>\n",
       "      <td>1</td>\n",
       "      <td>0</td>\n",
       "      <td>-0.636364</td>\n",
       "      <td>2.333333</td>\n",
       "    </tr>\n",
       "    <tr>\n",
       "      <th>1</th>\n",
       "      <td>32</td>\n",
       "      <td>1</td>\n",
       "      <td>0</td>\n",
       "      <td>0</td>\n",
       "      <td>0</td>\n",
       "      <td>0</td>\n",
       "      <td>0</td>\n",
       "      <td>0</td>\n",
       "      <td>22</td>\n",
       "      <td>0</td>\n",
       "      <td>0</td>\n",
       "      <td>-0.272727</td>\n",
       "      <td>1.666667</td>\n",
       "    </tr>\n",
       "    <tr>\n",
       "      <th>2</th>\n",
       "      <td>30</td>\n",
       "      <td>2</td>\n",
       "      <td>0</td>\n",
       "      <td>1</td>\n",
       "      <td>1</td>\n",
       "      <td>1</td>\n",
       "      <td>1</td>\n",
       "      <td>0</td>\n",
       "      <td>16</td>\n",
       "      <td>1</td>\n",
       "      <td>0</td>\n",
       "      <td>-0.454545</td>\n",
       "      <td>-0.333333</td>\n",
       "    </tr>\n",
       "    <tr>\n",
       "      <th>4</th>\n",
       "      <td>36</td>\n",
       "      <td>1</td>\n",
       "      <td>1</td>\n",
       "      <td>1</td>\n",
       "      <td>0</td>\n",
       "      <td>1</td>\n",
       "      <td>0</td>\n",
       "      <td>0</td>\n",
       "      <td>17</td>\n",
       "      <td>1</td>\n",
       "      <td>0</td>\n",
       "      <td>0.090909</td>\n",
       "      <td>0.000000</td>\n",
       "    </tr>\n",
       "    <tr>\n",
       "      <th>5</th>\n",
       "      <td>36</td>\n",
       "      <td>2</td>\n",
       "      <td>0</td>\n",
       "      <td>1</td>\n",
       "      <td>0</td>\n",
       "      <td>1</td>\n",
       "      <td>0</td>\n",
       "      <td>0</td>\n",
       "      <td>17</td>\n",
       "      <td>1</td>\n",
       "      <td>0</td>\n",
       "      <td>0.090909</td>\n",
       "      <td>0.000000</td>\n",
       "    </tr>\n",
       "    <tr>\n",
       "      <th>...</th>\n",
       "      <td>...</td>\n",
       "      <td>...</td>\n",
       "      <td>...</td>\n",
       "      <td>...</td>\n",
       "      <td>...</td>\n",
       "      <td>...</td>\n",
       "      <td>...</td>\n",
       "      <td>...</td>\n",
       "      <td>...</td>\n",
       "      <td>...</td>\n",
       "      <td>...</td>\n",
       "      <td>...</td>\n",
       "      <td>...</td>\n",
       "    </tr>\n",
       "    <tr>\n",
       "      <th>924</th>\n",
       "      <td>40</td>\n",
       "      <td>2</td>\n",
       "      <td>1</td>\n",
       "      <td>0</td>\n",
       "      <td>0</td>\n",
       "      <td>0</td>\n",
       "      <td>0</td>\n",
       "      <td>0</td>\n",
       "      <td>15</td>\n",
       "      <td>1</td>\n",
       "      <td>0</td>\n",
       "      <td>0.454545</td>\n",
       "      <td>-0.666667</td>\n",
       "    </tr>\n",
       "    <tr>\n",
       "      <th>925</th>\n",
       "      <td>43</td>\n",
       "      <td>2</td>\n",
       "      <td>0</td>\n",
       "      <td>0</td>\n",
       "      <td>0</td>\n",
       "      <td>0</td>\n",
       "      <td>0</td>\n",
       "      <td>0</td>\n",
       "      <td>16</td>\n",
       "      <td>1</td>\n",
       "      <td>0</td>\n",
       "      <td>0.727273</td>\n",
       "      <td>-0.333333</td>\n",
       "    </tr>\n",
       "    <tr>\n",
       "      <th>926</th>\n",
       "      <td>31</td>\n",
       "      <td>2</td>\n",
       "      <td>1</td>\n",
       "      <td>0</td>\n",
       "      <td>0</td>\n",
       "      <td>0</td>\n",
       "      <td>0</td>\n",
       "      <td>1</td>\n",
       "      <td>16</td>\n",
       "      <td>1</td>\n",
       "      <td>0</td>\n",
       "      <td>-0.363636</td>\n",
       "      <td>-0.333333</td>\n",
       "    </tr>\n",
       "    <tr>\n",
       "      <th>927</th>\n",
       "      <td>35</td>\n",
       "      <td>2</td>\n",
       "      <td>0</td>\n",
       "      <td>0</td>\n",
       "      <td>0</td>\n",
       "      <td>0</td>\n",
       "      <td>0</td>\n",
       "      <td>0</td>\n",
       "      <td>18</td>\n",
       "      <td>1</td>\n",
       "      <td>0</td>\n",
       "      <td>0.000000</td>\n",
       "      <td>0.333333</td>\n",
       "    </tr>\n",
       "    <tr>\n",
       "      <th>928</th>\n",
       "      <td>28</td>\n",
       "      <td>2</td>\n",
       "      <td>1</td>\n",
       "      <td>0</td>\n",
       "      <td>0</td>\n",
       "      <td>0</td>\n",
       "      <td>0</td>\n",
       "      <td>0</td>\n",
       "      <td>19</td>\n",
       "      <td>1</td>\n",
       "      <td>0</td>\n",
       "      <td>-0.636364</td>\n",
       "      <td>0.666667</td>\n",
       "    </tr>\n",
       "  </tbody>\n",
       "</table>\n",
       "<p>904 rows × 13 columns</p>\n",
       "</div>"
      ],
      "text/plain": [
       "     Age  HIV_Status  STI_Status  Bloody_Vaginal_Discharge  \\\n",
       "0     28           1           0                         0   \n",
       "1     32           1           0                         0   \n",
       "2     30           2           0                         1   \n",
       "4     36           1           1                         1   \n",
       "5     36           2           0                         1   \n",
       "..   ...         ...         ...                       ...   \n",
       "924   40           2           1                         0   \n",
       "925   43           2           0                         0   \n",
       "926   31           2           1                         0   \n",
       "927   35           2           0                         0   \n",
       "928   28           2           1                         0   \n",
       "\n",
       "     Family_History_Of_Ca  Bleeding_History  History_Of_STIs  Use_of_IUDs  \\\n",
       "0                       0                 0                1            0   \n",
       "1                       0                 0                0            0   \n",
       "2                       1                 1                1            0   \n",
       "4                       0                 1                0            0   \n",
       "5                       0                 1                0            0   \n",
       "..                    ...               ...              ...          ...   \n",
       "924                     0                 0                0            0   \n",
       "925                     0                 0                0            0   \n",
       "926                     0                 0                0            1   \n",
       "927                     0                 0                0            0   \n",
       "928                     0                 0                0            0   \n",
       "\n",
       "     Age_At_First_Sexual_Intercourse  Circumcised_Partner  HPV_STATUS  \\\n",
       "0                                 24                    1           0   \n",
       "1                                 22                    0           0   \n",
       "2                                 16                    1           0   \n",
       "4                                 17                    1           0   \n",
       "5                                 17                    1           0   \n",
       "..                               ...                  ...         ...   \n",
       "924                               15                    1           0   \n",
       "925                               16                    1           0   \n",
       "926                               16                    1           0   \n",
       "927                               18                    1           0   \n",
       "928                               19                    1           0   \n",
       "\n",
       "     Normalized_Age  Normalized_Age_At_First_Sexual_Intercourse  \n",
       "0         -0.636364                                    2.333333  \n",
       "1         -0.272727                                    1.666667  \n",
       "2         -0.454545                                   -0.333333  \n",
       "4          0.090909                                    0.000000  \n",
       "5          0.090909                                    0.000000  \n",
       "..              ...                                         ...  \n",
       "924        0.454545                                   -0.666667  \n",
       "925        0.727273                                   -0.333333  \n",
       "926       -0.363636                                   -0.333333  \n",
       "927        0.000000                                    0.333333  \n",
       "928       -0.636364                                    0.666667  \n",
       "\n",
       "[904 rows x 13 columns]"
      ]
     },
     "execution_count": 73,
     "metadata": {},
     "output_type": "execute_result"
    }
   ],
   "source": [
    "df"
   ]
  },
  {
   "cell_type": "code",
   "execution_count": 74,
   "id": "7f13ef70",
   "metadata": {},
   "outputs": [],
   "source": [
    "cols_to_drop=['Age','Age_At_First_Sexual_Intercourse']"
   ]
  },
  {
   "cell_type": "code",
   "execution_count": 75,
   "id": "c3fc47b7",
   "metadata": {},
   "outputs": [],
   "source": [
    "df=df.drop(cols_to_drop, axis=1)"
   ]
  },
  {
   "cell_type": "code",
   "execution_count": 76,
   "id": "4012cf72",
   "metadata": {},
   "outputs": [
    {
     "data": {
      "text/html": [
       "<div>\n",
       "<style scoped>\n",
       "    .dataframe tbody tr th:only-of-type {\n",
       "        vertical-align: middle;\n",
       "    }\n",
       "\n",
       "    .dataframe tbody tr th {\n",
       "        vertical-align: top;\n",
       "    }\n",
       "\n",
       "    .dataframe thead th {\n",
       "        text-align: right;\n",
       "    }\n",
       "</style>\n",
       "<table border=\"1\" class=\"dataframe\">\n",
       "  <thead>\n",
       "    <tr style=\"text-align: right;\">\n",
       "      <th></th>\n",
       "      <th>HIV_Status</th>\n",
       "      <th>STI_Status</th>\n",
       "      <th>Bloody_Vaginal_Discharge</th>\n",
       "      <th>Family_History_Of_Ca</th>\n",
       "      <th>Bleeding_History</th>\n",
       "      <th>History_Of_STIs</th>\n",
       "      <th>Use_of_IUDs</th>\n",
       "      <th>Circumcised_Partner</th>\n",
       "      <th>HPV_STATUS</th>\n",
       "      <th>Normalized_Age</th>\n",
       "      <th>Normalized_Age_At_First_Sexual_Intercourse</th>\n",
       "    </tr>\n",
       "  </thead>\n",
       "  <tbody>\n",
       "    <tr>\n",
       "      <th>0</th>\n",
       "      <td>1</td>\n",
       "      <td>0</td>\n",
       "      <td>0</td>\n",
       "      <td>0</td>\n",
       "      <td>0</td>\n",
       "      <td>1</td>\n",
       "      <td>0</td>\n",
       "      <td>1</td>\n",
       "      <td>0</td>\n",
       "      <td>-0.636364</td>\n",
       "      <td>2.333333</td>\n",
       "    </tr>\n",
       "    <tr>\n",
       "      <th>1</th>\n",
       "      <td>1</td>\n",
       "      <td>0</td>\n",
       "      <td>0</td>\n",
       "      <td>0</td>\n",
       "      <td>0</td>\n",
       "      <td>0</td>\n",
       "      <td>0</td>\n",
       "      <td>0</td>\n",
       "      <td>0</td>\n",
       "      <td>-0.272727</td>\n",
       "      <td>1.666667</td>\n",
       "    </tr>\n",
       "    <tr>\n",
       "      <th>2</th>\n",
       "      <td>2</td>\n",
       "      <td>0</td>\n",
       "      <td>1</td>\n",
       "      <td>1</td>\n",
       "      <td>1</td>\n",
       "      <td>1</td>\n",
       "      <td>0</td>\n",
       "      <td>1</td>\n",
       "      <td>0</td>\n",
       "      <td>-0.454545</td>\n",
       "      <td>-0.333333</td>\n",
       "    </tr>\n",
       "    <tr>\n",
       "      <th>4</th>\n",
       "      <td>1</td>\n",
       "      <td>1</td>\n",
       "      <td>1</td>\n",
       "      <td>0</td>\n",
       "      <td>1</td>\n",
       "      <td>0</td>\n",
       "      <td>0</td>\n",
       "      <td>1</td>\n",
       "      <td>0</td>\n",
       "      <td>0.090909</td>\n",
       "      <td>0.000000</td>\n",
       "    </tr>\n",
       "    <tr>\n",
       "      <th>5</th>\n",
       "      <td>2</td>\n",
       "      <td>0</td>\n",
       "      <td>1</td>\n",
       "      <td>0</td>\n",
       "      <td>1</td>\n",
       "      <td>0</td>\n",
       "      <td>0</td>\n",
       "      <td>1</td>\n",
       "      <td>0</td>\n",
       "      <td>0.090909</td>\n",
       "      <td>0.000000</td>\n",
       "    </tr>\n",
       "    <tr>\n",
       "      <th>...</th>\n",
       "      <td>...</td>\n",
       "      <td>...</td>\n",
       "      <td>...</td>\n",
       "      <td>...</td>\n",
       "      <td>...</td>\n",
       "      <td>...</td>\n",
       "      <td>...</td>\n",
       "      <td>...</td>\n",
       "      <td>...</td>\n",
       "      <td>...</td>\n",
       "      <td>...</td>\n",
       "    </tr>\n",
       "    <tr>\n",
       "      <th>924</th>\n",
       "      <td>2</td>\n",
       "      <td>1</td>\n",
       "      <td>0</td>\n",
       "      <td>0</td>\n",
       "      <td>0</td>\n",
       "      <td>0</td>\n",
       "      <td>0</td>\n",
       "      <td>1</td>\n",
       "      <td>0</td>\n",
       "      <td>0.454545</td>\n",
       "      <td>-0.666667</td>\n",
       "    </tr>\n",
       "    <tr>\n",
       "      <th>925</th>\n",
       "      <td>2</td>\n",
       "      <td>0</td>\n",
       "      <td>0</td>\n",
       "      <td>0</td>\n",
       "      <td>0</td>\n",
       "      <td>0</td>\n",
       "      <td>0</td>\n",
       "      <td>1</td>\n",
       "      <td>0</td>\n",
       "      <td>0.727273</td>\n",
       "      <td>-0.333333</td>\n",
       "    </tr>\n",
       "    <tr>\n",
       "      <th>926</th>\n",
       "      <td>2</td>\n",
       "      <td>1</td>\n",
       "      <td>0</td>\n",
       "      <td>0</td>\n",
       "      <td>0</td>\n",
       "      <td>0</td>\n",
       "      <td>1</td>\n",
       "      <td>1</td>\n",
       "      <td>0</td>\n",
       "      <td>-0.363636</td>\n",
       "      <td>-0.333333</td>\n",
       "    </tr>\n",
       "    <tr>\n",
       "      <th>927</th>\n",
       "      <td>2</td>\n",
       "      <td>0</td>\n",
       "      <td>0</td>\n",
       "      <td>0</td>\n",
       "      <td>0</td>\n",
       "      <td>0</td>\n",
       "      <td>0</td>\n",
       "      <td>1</td>\n",
       "      <td>0</td>\n",
       "      <td>0.000000</td>\n",
       "      <td>0.333333</td>\n",
       "    </tr>\n",
       "    <tr>\n",
       "      <th>928</th>\n",
       "      <td>2</td>\n",
       "      <td>1</td>\n",
       "      <td>0</td>\n",
       "      <td>0</td>\n",
       "      <td>0</td>\n",
       "      <td>0</td>\n",
       "      <td>0</td>\n",
       "      <td>1</td>\n",
       "      <td>0</td>\n",
       "      <td>-0.636364</td>\n",
       "      <td>0.666667</td>\n",
       "    </tr>\n",
       "  </tbody>\n",
       "</table>\n",
       "<p>904 rows × 11 columns</p>\n",
       "</div>"
      ],
      "text/plain": [
       "     HIV_Status  STI_Status  Bloody_Vaginal_Discharge  Family_History_Of_Ca  \\\n",
       "0             1           0                         0                     0   \n",
       "1             1           0                         0                     0   \n",
       "2             2           0                         1                     1   \n",
       "4             1           1                         1                     0   \n",
       "5             2           0                         1                     0   \n",
       "..          ...         ...                       ...                   ...   \n",
       "924           2           1                         0                     0   \n",
       "925           2           0                         0                     0   \n",
       "926           2           1                         0                     0   \n",
       "927           2           0                         0                     0   \n",
       "928           2           1                         0                     0   \n",
       "\n",
       "     Bleeding_History  History_Of_STIs  Use_of_IUDs  Circumcised_Partner  \\\n",
       "0                   0                1            0                    1   \n",
       "1                   0                0            0                    0   \n",
       "2                   1                1            0                    1   \n",
       "4                   1                0            0                    1   \n",
       "5                   1                0            0                    1   \n",
       "..                ...              ...          ...                  ...   \n",
       "924                 0                0            0                    1   \n",
       "925                 0                0            0                    1   \n",
       "926                 0                0            1                    1   \n",
       "927                 0                0            0                    1   \n",
       "928                 0                0            0                    1   \n",
       "\n",
       "     HPV_STATUS  Normalized_Age  Normalized_Age_At_First_Sexual_Intercourse  \n",
       "0             0       -0.636364                                    2.333333  \n",
       "1             0       -0.272727                                    1.666667  \n",
       "2             0       -0.454545                                   -0.333333  \n",
       "4             0        0.090909                                    0.000000  \n",
       "5             0        0.090909                                    0.000000  \n",
       "..          ...             ...                                         ...  \n",
       "924           0        0.454545                                   -0.666667  \n",
       "925           0        0.727273                                   -0.333333  \n",
       "926           0       -0.363636                                   -0.333333  \n",
       "927           0        0.000000                                    0.333333  \n",
       "928           0       -0.636364                                    0.666667  \n",
       "\n",
       "[904 rows x 11 columns]"
      ]
     },
     "execution_count": 76,
     "metadata": {},
     "output_type": "execute_result"
    }
   ],
   "source": [
    "df"
   ]
  },
  {
   "cell_type": "code",
   "execution_count": 77,
   "id": "e28b476a",
   "metadata": {},
   "outputs": [
    {
     "data": {
      "text/plain": [
       "0    821\n",
       "1     83\n",
       "Name: HPV_STATUS, dtype: int64"
      ]
     },
     "execution_count": 77,
     "metadata": {},
     "output_type": "execute_result"
    }
   ],
   "source": [
    "df['HPV_STATUS'].value_counts()"
   ]
  },
  {
   "cell_type": "markdown",
   "id": "2924f96c",
   "metadata": {},
   "source": [
    "UNDER SAMPLING THE MAJORITY"
   ]
  },
  {
   "cell_type": "code",
   "execution_count": 78,
   "id": "06d7953d",
   "metadata": {},
   "outputs": [],
   "source": [
    "df = df.sample(frac=1)\n",
    "cancer = df.loc[df['HPV_STATUS']==1]\n",
    "no_cancer=df.loc[df['HPV_STATUS']==0][:83]"
   ]
  },
  {
   "cell_type": "code",
   "execution_count": 79,
   "id": "ed0fa6c5",
   "metadata": {},
   "outputs": [],
   "source": [
    "normal_distributed_df=pd.concat([cancer, no_cancer],axis=0, ignore_index=True)"
   ]
  },
  {
   "cell_type": "code",
   "execution_count": 80,
   "id": "06ac715c",
   "metadata": {},
   "outputs": [],
   "source": [
    "normal_df = shuffle(normal_distributed_df, random_state=42)"
   ]
  },
  {
   "cell_type": "code",
   "execution_count": 81,
   "id": "1633b42f",
   "metadata": {},
   "outputs": [],
   "source": [
    "from sklearn.model_selection import train_test_split\n",
    "X = normal_df.drop(columns=['HPV_STATUS'])\n",
    "y = normal_df['HPV_STATUS']\n",
    "X_train, X_test, y_train, y_test = train_test_split(X, y, test_size=0.2, random_state=15, stratify=y)"
   ]
  },
  {
   "cell_type": "markdown",
   "id": "7b8e7e53",
   "metadata": {},
   "source": [
    " So, we have a heavily imbalanced dataset. we could simply create a balanced dataset by collecting the same number of observations from the majority class to be equal to the minority class, but, we would be losing a lot of observations from the majority class. we could use the ensemble method or SMOTE or focal loss"
   ]
  },
  {
   "cell_type": "code",
   "execution_count": 82,
   "id": "2500eaf5",
   "metadata": {},
   "outputs": [
    {
     "data": {
      "text/plain": [
       "1    66\n",
       "0    66\n",
       "Name: HPV_STATUS, dtype: int64"
      ]
     },
     "execution_count": 82,
     "metadata": {},
     "output_type": "execute_result"
    }
   ],
   "source": [
    " y_train.value_counts()"
   ]
  },
  {
   "cell_type": "code",
   "execution_count": 83,
   "id": "7cb5ccec",
   "metadata": {},
   "outputs": [
    {
     "name": "stdout",
     "output_type": "stream",
     "text": [
      "Classification Report:\n",
      "              precision    recall  f1-score   support\n",
      "\n",
      "    Negative       0.93      0.82      0.87        17\n",
      "    Positive       0.84      0.94      0.89        17\n",
      "\n",
      "    accuracy                           0.88        34\n",
      "   macro avg       0.89      0.88      0.88        34\n",
      "weighted avg       0.89      0.88      0.88        34\n",
      "\n"
     ]
    }
   ],
   "source": [
    "\n",
    "from sklearn.linear_model import LogisticRegression\n",
    "from sklearn.metrics import classification_report\n",
    "\n",
    "logistic_model = LogisticRegression()\n",
    "logistic_model.fit(X_train, y_train)\n",
    "\n",
    "y_pred = logistic_model.predict(X_test)\n",
    "\n",
    "target_names = ['Negative', 'Positive']  # Class labels for the two classes (0: Negative, 1: Positive)\n",
    "class_report = classification_report(y_test, y_pred, target_names=target_names)\n",
    "\n",
    "print(\"Classification Report:\")\n",
    "print(class_report)\n"
   ]
  },
  {
   "cell_type": "code",
   "execution_count": 84,
   "id": "387910c8",
   "metadata": {},
   "outputs": [
    {
     "name": "stdout",
     "output_type": "stream",
     "text": [
      "Classification Report:\n",
      "              precision    recall  f1-score   support\n",
      "\n",
      "    Negative       0.88      0.82      0.85        17\n",
      "    Positive       0.83      0.88      0.86        17\n",
      "\n",
      "    accuracy                           0.85        34\n",
      "   macro avg       0.85      0.85      0.85        34\n",
      "weighted avg       0.85      0.85      0.85        34\n",
      "\n"
     ]
    }
   ],
   "source": [
    "from sklearn.ensemble import RandomForestClassifier\n",
    "from sklearn.metrics import classification_report\n",
    "\n",
    "random = RandomForestClassifier()\n",
    "random.fit(X_train, y_train)\n",
    "\n",
    "y_pred = random.predict(X_test)\n",
    "\n",
    "target_names = ['Negative', 'Positive']  # Class labels for the two classes (0: Negative, 1: Positive)\n",
    "class_report = classification_report(y_test, y_pred, target_names=target_names)\n",
    "\n",
    "print(\"Classification Report:\")\n",
    "print(class_report)\n"
   ]
  },
  {
   "cell_type": "markdown",
   "id": "efc99152",
   "metadata": {},
   "source": [
    "UNDER_SAMPLING"
   ]
  },
  {
   "cell_type": "code",
   "execution_count": 85,
   "id": "02b014d1",
   "metadata": {},
   "outputs": [],
   "source": [
    "df_class_0 = df[df['HPV_STATUS']==0][:83]\n",
    "df_class_1 = df[df['HPV_STATUS']==1]"
   ]
  },
  {
   "cell_type": "code",
   "execution_count": 86,
   "id": "6e1517ae",
   "metadata": {},
   "outputs": [],
   "source": [
    "new_df=pd.concat([df_class_0,df_class_1], axis=0, ignore_index=True)"
   ]
  },
  {
   "cell_type": "code",
   "execution_count": 87,
   "id": "83da07fd",
   "metadata": {},
   "outputs": [],
   "source": [
    "normal_df = shuffle(new_df, random_state=42)"
   ]
  },
  {
   "cell_type": "code",
   "execution_count": 88,
   "id": "c93e4a05",
   "metadata": {},
   "outputs": [
    {
     "data": {
      "text/plain": [
       "(166, 11)"
      ]
     },
     "execution_count": 88,
     "metadata": {},
     "output_type": "execute_result"
    }
   ],
   "source": [
    "normal_df.shape"
   ]
  },
  {
   "cell_type": "code",
   "execution_count": 89,
   "id": "8d2ead66",
   "metadata": {},
   "outputs": [],
   "source": [
    "from sklearn.model_selection import train_test_split\n",
    "X = normal_df.drop(columns=['HPV_STATUS'])\n",
    "y = normal_df['HPV_STATUS']\n",
    "X_train, X_test, y_train, y_test = train_test_split(X, y, test_size=0.2, random_state=15, stratify=y)"
   ]
  },
  {
   "cell_type": "code",
   "execution_count": 90,
   "id": "f975bf5f",
   "metadata": {},
   "outputs": [
    {
     "data": {
      "text/plain": [
       "1    66\n",
       "0    66\n",
       "Name: HPV_STATUS, dtype: int64"
      ]
     },
     "execution_count": 90,
     "metadata": {},
     "output_type": "execute_result"
    }
   ],
   "source": [
    "y_train.value_counts()"
   ]
  },
  {
   "cell_type": "markdown",
   "id": "f31083a9",
   "metadata": {},
   "source": [
    "USING LOGISTIC REGRESSION ON UNDER SAMPLING OF MAJORITY CLASS"
   ]
  },
  {
   "cell_type": "code",
   "execution_count": 91,
   "id": "f7e8f9dd",
   "metadata": {},
   "outputs": [
    {
     "name": "stdout",
     "output_type": "stream",
     "text": [
      "Classification Report:\n",
      "              precision    recall  f1-score   support\n",
      "\n",
      "    Negative       1.00      0.65      0.79        17\n",
      "    Positive       0.74      1.00      0.85        17\n",
      "\n",
      "    accuracy                           0.82        34\n",
      "   macro avg       0.87      0.82      0.82        34\n",
      "weighted avg       0.87      0.82      0.82        34\n",
      "\n"
     ]
    }
   ],
   "source": [
    "logistic_model = LogisticRegression()\n",
    "logistic_model.fit(X_train, y_train)\n",
    "y_pred = logistic_model.predict(X_test)\n",
    "\n",
    "target_names = ['Negative', 'Positive']  # Class labels for the two classes (0: Negative, 1: Positive)\n",
    "class_report = classification_report(y_test, y_pred, target_names=target_names)\n",
    "\n",
    "print(\"Classification Report:\")\n",
    "print(class_report)\n"
   ]
  },
  {
   "cell_type": "markdown",
   "id": "e2745006",
   "metadata": {},
   "source": [
    "USING RANDOM FOREST FOR UNDER SAMPLING"
   ]
  },
  {
   "cell_type": "code",
   "execution_count": 92,
   "id": "64d7a745",
   "metadata": {},
   "outputs": [
    {
     "name": "stdout",
     "output_type": "stream",
     "text": [
      "Classification Report:\n",
      "              precision    recall  f1-score   support\n",
      "\n",
      "    Negative       0.92      0.71      0.80        17\n",
      "    Positive       0.76      0.94      0.84        17\n",
      "\n",
      "    accuracy                           0.82        34\n",
      "   macro avg       0.84      0.82      0.82        34\n",
      "weighted avg       0.84      0.82      0.82        34\n",
      "\n"
     ]
    }
   ],
   "source": [
    "from sklearn.ensemble import RandomForestClassifier\n",
    "from sklearn.metrics import classification_report\n",
    "\n",
    "random = RandomForestClassifier()\n",
    "random.fit(X_train, y_train)\n",
    "\n",
    "y_pred = random.predict(X_test)\n",
    "\n",
    "target_names = ['Negative', 'Positive']  # Class labels for the two classes (0: Negative, 1: Positive)\n",
    "class_report = classification_report(y_test, y_pred, target_names=target_names)\n",
    "\n",
    "print(\"Classification Report:\")\n",
    "print(class_report)"
   ]
  },
  {
   "cell_type": "markdown",
   "id": "3b7c8737",
   "metadata": {},
   "source": [
    "OVER_SAMPLING"
   ]
  },
  {
   "cell_type": "code",
   "execution_count": 93,
   "id": "d20380db",
   "metadata": {},
   "outputs": [],
   "source": [
    "df_class_0 = df[df['HPV_STATUS']==0]\n",
    "df_class_1 = df[df['HPV_STATUS']==1]\n",
    "df_class_1.shape\n",
    "df_class_1_over= df_class_1.sample(821, replace=True)\n",
    "df_new = pd.concat([df_class_0,df_class_1_over], axis=0, ignore_index=True)\n",
    "df_new=shuffle(df_new, random_state=42)"
   ]
  },
  {
   "cell_type": "markdown",
   "id": "3d3f154f",
   "metadata": {},
   "source": [
    " CHECKING FOR HOW WELL MODEL IS WHEN WE OVER SAMPLE"
   ]
  },
  {
   "cell_type": "code",
   "execution_count": 94,
   "id": "c3c44e6a",
   "metadata": {},
   "outputs": [],
   "source": [
    "X=df_new.drop(columns=['HPV_STATUS'])\n",
    "y = df_new['HPV_STATUS']\n",
    "X_train, X_test, y_train, y_test = train_test_split(X, y, test_size=0.2, random_state=15, stratify=y) "
   ]
  },
  {
   "cell_type": "code",
   "execution_count": 95,
   "id": "1c9fd1f1",
   "metadata": {},
   "outputs": [
    {
     "data": {
      "text/plain": [
       "1    657\n",
       "0    656\n",
       "Name: HPV_STATUS, dtype: int64"
      ]
     },
     "execution_count": 95,
     "metadata": {},
     "output_type": "execute_result"
    }
   ],
   "source": [
    "y_train.value_counts()"
   ]
  },
  {
   "cell_type": "markdown",
   "id": "36e3b655",
   "metadata": {},
   "source": [
    "RANDOM FOREST FOR OVER SAMPLING"
   ]
  },
  {
   "cell_type": "code",
   "execution_count": 96,
   "id": "553c83cf",
   "metadata": {},
   "outputs": [
    {
     "name": "stdout",
     "output_type": "stream",
     "text": [
      "Classification Report:\n",
      "              precision    recall  f1-score   support\n",
      "\n",
      "    Negative       1.00      0.94      0.97       165\n",
      "    Positive       0.94      1.00      0.97       164\n",
      "\n",
      "    accuracy                           0.97       329\n",
      "   macro avg       0.97      0.97      0.97       329\n",
      "weighted avg       0.97      0.97      0.97       329\n",
      "\n"
     ]
    }
   ],
   "source": [
    "random = RandomForestClassifier()\n",
    "random.fit(X_train, y_train)\n",
    "y_pred = random.predict(X_test)\n",
    "\n",
    "target_names = ['Negative', 'Positive']  # Class labels for the two classes (0: Negative, 1: Positive)\n",
    "class_report = classification_report(y_test, y_pred, target_names=target_names)\n",
    "\n",
    "print(\"Classification Report:\")\n",
    "print(class_report)"
   ]
  },
  {
   "cell_type": "markdown",
   "id": "96bd35a2",
   "metadata": {},
   "source": [
    "LOGISTIC REGRESSION FOR OVER SAMPLING"
   ]
  },
  {
   "cell_type": "code",
   "execution_count": 97,
   "id": "34283309",
   "metadata": {},
   "outputs": [
    {
     "name": "stdout",
     "output_type": "stream",
     "text": [
      "Classification Report:\n",
      "              precision    recall  f1-score   support\n",
      "\n",
      "    Negative       0.86      0.87      0.87       165\n",
      "    Positive       0.87      0.86      0.87       164\n",
      "\n",
      "    accuracy                           0.87       329\n",
      "   macro avg       0.87      0.87      0.87       329\n",
      "weighted avg       0.87      0.87      0.87       329\n",
      "\n"
     ]
    }
   ],
   "source": [
    "logistic_model = LogisticRegression()\n",
    "logistic_model.fit(X_train, y_train)\n",
    "\n",
    "y_pred = logistic_model.predict(X_test)\n",
    "\n",
    "target_names = ['Negative', 'Positive']  # Class labels for the two classes (0: Negative, 1: Positive)\n",
    "class_report = classification_report(y_test, y_pred, target_names=target_names)\n",
    "\n",
    "print(\"Classification Report:\")\n",
    "print(class_report)\n"
   ]
  },
  {
   "cell_type": "markdown",
   "id": "724bd1cd",
   "metadata": {},
   "source": [
    " USING SMOTE "
   ]
  },
  {
   "cell_type": "code",
   "execution_count": 98,
   "id": "fc4c8ef4",
   "metadata": {},
   "outputs": [
    {
     "data": {
      "text/plain": [
       "0    821\n",
       "1     83\n",
       "Name: HPV_STATUS, dtype: int64"
      ]
     },
     "execution_count": 98,
     "metadata": {},
     "output_type": "execute_result"
    }
   ],
   "source": [
    "X=df.drop(columns=['HPV_STATUS'])\n",
    "y= df['HPV_STATUS']\n",
    "y.value_counts()\n",
    " "
   ]
  },
  {
   "cell_type": "code",
   "execution_count": 99,
   "id": "d2069d59",
   "metadata": {},
   "outputs": [],
   "source": [
    "from imblearn.over_sampling import SMOTE"
   ]
  },
  {
   "cell_type": "code",
   "execution_count": 100,
   "id": "0e3e4e1f",
   "metadata": {},
   "outputs": [],
   "source": [
    "smote = SMOTE(sampling_strategy = 'minority')\n",
    "X_sm, y_sm =  smote.fit_resample(X,y) "
   ]
  },
  {
   "cell_type": "code",
   "execution_count": 101,
   "id": "e7a2320a",
   "metadata": {},
   "outputs": [
    {
     "data": {
      "text/plain": [
       "0    821\n",
       "1    821\n",
       "Name: HPV_STATUS, dtype: int64"
      ]
     },
     "execution_count": 101,
     "metadata": {},
     "output_type": "execute_result"
    }
   ],
   "source": [
    "y_sm.value_counts()"
   ]
  },
  {
   "cell_type": "code",
   "execution_count": 102,
   "id": "0fe68964",
   "metadata": {},
   "outputs": [],
   "source": [
    " X_train, X_test, y_train, y_test = train_test_split(X_sm, y_sm, test_size=0.2, random_state=15, stratify=y_sm) "
   ]
  },
  {
   "cell_type": "markdown",
   "id": "2c2fe137",
   "metadata": {},
   "source": [
    "CHECKING SMOTE PERFORMANCE WITH LOGISTIC REGRESSION"
   ]
  },
  {
   "cell_type": "code",
   "execution_count": 103,
   "id": "5da6cf2e",
   "metadata": {},
   "outputs": [
    {
     "data": {
      "text/plain": [
       "1    657\n",
       "0    656\n",
       "Name: HPV_STATUS, dtype: int64"
      ]
     },
     "execution_count": 103,
     "metadata": {},
     "output_type": "execute_result"
    }
   ],
   "source": [
    "y_train.value_counts()"
   ]
  },
  {
   "cell_type": "code",
   "execution_count": 104,
   "id": "77e759bf",
   "metadata": {},
   "outputs": [
    {
     "name": "stdout",
     "output_type": "stream",
     "text": [
      "Classification Report:\n",
      "              precision    recall  f1-score   support\n",
      "\n",
      "    Negative       0.95      0.90      0.93       165\n",
      "    Positive       0.91      0.95      0.93       164\n",
      "\n",
      "    accuracy                           0.93       329\n",
      "   macro avg       0.93      0.93      0.93       329\n",
      "weighted avg       0.93      0.93      0.93       329\n",
      "\n"
     ]
    }
   ],
   "source": [
    "logistic_model = LogisticRegression()\n",
    "logistic_model.fit(X_train, y_train)\n",
    "\n",
    "y_pred = logistic_model.predict(X_test)\n",
    "\n",
    "target_names = ['Negative', 'Positive']  \n",
    "class_report = classification_report(y_test, y_pred, target_names=target_names)\n",
    "\n",
    "print(\"Classification Report:\")\n",
    "print(class_report)"
   ]
  },
  {
   "cell_type": "markdown",
   "id": "d950664c",
   "metadata": {},
   "source": [
    "CHECKING PERFORMANCE OF A RANDOM FOREST CLASSIFIER AFTER USING SMOTE"
   ]
  },
  {
   "cell_type": "code",
   "execution_count": 105,
   "id": "05212e77",
   "metadata": {},
   "outputs": [
    {
     "name": "stdout",
     "output_type": "stream",
     "text": [
      "Classification Report:\n",
      "              precision    recall  f1-score   support\n",
      "\n",
      "    Negative       0.99      0.93      0.96       165\n",
      "    Positive       0.93      0.99      0.96       164\n",
      "\n",
      "    accuracy                           0.96       329\n",
      "   macro avg       0.96      0.96      0.96       329\n",
      "weighted avg       0.96      0.96      0.96       329\n",
      "\n"
     ]
    }
   ],
   "source": [
    "random = RandomForestClassifier()\n",
    "random.fit(X_train, y_train)\n",
    "\n",
    "y_pred = random.predict(X_test)\n",
    "\n",
    "target_names = ['Negative', 'Positive'] \n",
    "class_report = classification_report(y_test, y_pred, target_names=target_names)\n",
    "\n",
    "print(\"Classification Report:\")\n",
    "print(class_report)"
   ]
  },
  {
   "cell_type": "markdown",
   "id": "eba60461",
   "metadata": {},
   "source": [
    "USING ENSEMBLE WITH UNDERSAMPLING"
   ]
  },
  {
   "cell_type": "code",
   "execution_count": 106,
   "id": "edeff6c2",
   "metadata": {},
   "outputs": [],
   "source": [
    "X=df.drop(columns=['HPV_STATUS'])\n",
    "y= df['HPV_STATUS']"
   ]
  },
  {
   "cell_type": "code",
   "execution_count": 107,
   "id": "a635c23d",
   "metadata": {},
   "outputs": [],
   "source": [
    "X_train, X_test, y_train, y_test = train_test_split(X, y, test_size=0.2, random_state=15, stratify=y) "
   ]
  },
  {
   "cell_type": "code",
   "execution_count": 108,
   "id": "96072293",
   "metadata": {},
   "outputs": [
    {
     "data": {
      "text/plain": [
       "(723,)"
      ]
     },
     "execution_count": 108,
     "metadata": {},
     "output_type": "execute_result"
    }
   ],
   "source": [
    "y_train.shape"
   ]
  },
  {
   "cell_type": "code",
   "execution_count": 109,
   "id": "89e5e726",
   "metadata": {},
   "outputs": [
    {
     "data": {
      "text/plain": [
       "0    657\n",
       "1     66\n",
       "Name: HPV_STATUS, dtype: int64"
      ]
     },
     "execution_count": 109,
     "metadata": {},
     "output_type": "execute_result"
    }
   ],
   "source": [
    "y_train.value_counts()"
   ]
  },
  {
   "cell_type": "code",
   "execution_count": 110,
   "id": "203389d5",
   "metadata": {},
   "outputs": [
    {
     "data": {
      "text/plain": [
       "(181, 10)"
      ]
     },
     "execution_count": 110,
     "metadata": {},
     "output_type": "execute_result"
    }
   ],
   "source": [
    "X_test.shape"
   ]
  },
  {
   "cell_type": "code",
   "execution_count": 111,
   "id": "5cfad247",
   "metadata": {},
   "outputs": [
    {
     "data": {
      "text/plain": [
       "(181,)"
      ]
     },
     "execution_count": 111,
     "metadata": {},
     "output_type": "execute_result"
    }
   ],
   "source": [
    "y_test.shape"
   ]
  },
  {
   "cell_type": "code",
   "execution_count": 112,
   "id": "d612c301",
   "metadata": {},
   "outputs": [
    {
     "data": {
      "text/plain": [
       "0    164\n",
       "1     17\n",
       "Name: HPV_STATUS, dtype: int64"
      ]
     },
     "execution_count": 112,
     "metadata": {},
     "output_type": "execute_result"
    }
   ],
   "source": [
    "y_test.value_counts()"
   ]
  },
  {
   "cell_type": "code",
   "execution_count": 113,
   "id": "2865f3ef",
   "metadata": {},
   "outputs": [],
   "source": [
    "df3=X_train.copy()"
   ]
  },
  {
   "cell_type": "code",
   "execution_count": 114,
   "id": "0ae1b0c0",
   "metadata": {},
   "outputs": [],
   "source": [
    "df3['HPV_STATUS']=y_train"
   ]
  },
  {
   "cell_type": "code",
   "execution_count": 115,
   "id": "e24edea6",
   "metadata": {},
   "outputs": [],
   "source": [
    "df3_No_HPV = df3[df3.HPV_STATUS==0]\n",
    "df3_HPV = df3[df3.HPV_STATUS==1]"
   ]
  },
  {
   "cell_type": "code",
   "execution_count": 116,
   "id": "6b5c1070",
   "metadata": {},
   "outputs": [
    {
     "data": {
      "text/plain": [
       "((657, 11), (66, 11))"
      ]
     },
     "execution_count": 116,
     "metadata": {},
     "output_type": "execute_result"
    }
   ],
   "source": [
    "   df3_No_HPV.shape,df3_HPV.shape"
   ]
  },
  {
   "cell_type": "code",
   "execution_count": 117,
   "id": "22e66180",
   "metadata": {},
   "outputs": [
    {
     "data": {
      "text/plain": [
       "0    164\n",
       "1     17\n",
       "Name: HPV_STATUS, dtype: int64"
      ]
     },
     "execution_count": 117,
     "metadata": {},
     "output_type": "execute_result"
    }
   ],
   "source": [
    "y_test.value_counts()"
   ]
  },
  {
   "cell_type": "code",
   "execution_count": 118,
   "id": "801181e3",
   "metadata": {},
   "outputs": [],
   "source": [
    "df_train = pd.concat([df3_No_HPV[:66],df3_HPV], axis=0)  "
   ]
  },
  {
   "cell_type": "code",
   "execution_count": 119,
   "id": "e3f35ca6",
   "metadata": {},
   "outputs": [
    {
     "data": {
      "text/plain": [
       "(132, 11)"
      ]
     },
     "execution_count": 119,
     "metadata": {},
     "output_type": "execute_result"
    }
   ],
   "source": [
    "df_train.shape"
   ]
  },
  {
   "cell_type": "markdown",
   "id": "0fefde38",
   "metadata": {},
   "source": [
    "Essentially, with the ensemble technique, the majority dataset is split into several equal proportions so that the model is trained with equal samples of the majority and minority dataset. so, we will create a function to generate an equally distributed train sample from which the models will be trained"
   ]
  },
  {
   "cell_type": "code",
   "execution_count": 120,
   "id": "3340c5a3",
   "metadata": {},
   "outputs": [],
   "source": [
    "def get_train_batch(df_majority, df_minority,start, end):\n",
    "    df_train = pd.concat([df_majority[start:end],df_minority], axis=0)\n",
    "    X_train=df_train.drop('HPV_STATUS', axis='columns')\n",
    "    y_train = df_train.HPV_STATUS\n",
    "    \n",
    "    return X_train, y_train"
   ]
  },
  {
   "cell_type": "code",
   "execution_count": 121,
   "id": "e283b55c",
   "metadata": {},
   "outputs": [],
   "source": [
    "X_train,y_train = get_train_batch(df3_No_HPV,df3_HPV,0,66) "
   ]
  },
  {
   "cell_type": "code",
   "execution_count": 122,
   "id": "4894cdd8",
   "metadata": {},
   "outputs": [
    {
     "data": {
      "text/plain": [
       "(132, 10)"
      ]
     },
     "execution_count": 122,
     "metadata": {},
     "output_type": "execute_result"
    }
   ],
   "source": [
    "  X_train.shape"
   ]
  },
  {
   "cell_type": "markdown",
   "id": "612d7483",
   "metadata": {},
   "source": [
    " USING THE ENSEMBLE TECHNIQUE TO TRAIN THE MODELS WITH THE DIFFERENT SAMPLES OF THE MAJORITY CLASS"
   ]
  },
  {
   "cell_type": "raw",
   "id": "618609a8",
   "metadata": {},
   "source": [
    "LOGISTIC REGRESSION"
   ]
  },
  {
   "cell_type": "code",
   "execution_count": 123,
   "id": "cec6adc9",
   "metadata": {},
   "outputs": [
    {
     "name": "stdout",
     "output_type": "stream",
     "text": [
      "Classification Report:\n",
      "              precision    recall  f1-score   support\n",
      "\n",
      "    Negative       0.99      0.89      0.94       164\n",
      "    Positive       0.45      0.88      0.60        17\n",
      "\n",
      "    accuracy                           0.89       181\n",
      "   macro avg       0.72      0.89      0.77       181\n",
      "weighted avg       0.94      0.89      0.90       181\n",
      "\n"
     ]
    }
   ],
   "source": [
    "logistic_model.fit(X_train, y_train)\n",
    "y_pred1 = logistic_model.predict(X_test)\n",
    "\n",
    "target_names = ['Negative', 'Positive']  # Class labels for the two classes (0: Negative, 1: Positive)\n",
    "class_report = classification_report(y_test, y_pred1, target_names=target_names)\n",
    "\n",
    "print(\"Classification Report:\")\n",
    "print(class_report)"
   ]
  },
  {
   "cell_type": "code",
   "execution_count": 124,
   "id": "e73df731",
   "metadata": {},
   "outputs": [],
   "source": [
    "X_train,y_train = get_train_batch(df3_No_HPV,df3_HPV,66,132) "
   ]
  },
  {
   "cell_type": "code",
   "execution_count": 125,
   "id": "ef0718fc",
   "metadata": {},
   "outputs": [
    {
     "name": "stdout",
     "output_type": "stream",
     "text": [
      "Classification Report:\n",
      "              precision    recall  f1-score   support\n",
      "\n",
      "    Negative       0.98      0.89      0.93       164\n",
      "    Positive       0.44      0.82      0.57        17\n",
      "\n",
      "    accuracy                           0.88       181\n",
      "   macro avg       0.71      0.86      0.75       181\n",
      "weighted avg       0.93      0.88      0.90       181\n",
      "\n"
     ]
    }
   ],
   "source": [
    "logistic_model.fit(X_train, y_train)\n",
    "y_pred2 = logistic_model.predict(X_test)\n",
    "\n",
    "target_names = ['Negative', 'Positive']  # Class labels for the two classes (0: Negative, 1: Positive)\n",
    "class_report = classification_report(y_test, y_pred2, target_names=target_names)\n",
    "\n",
    "print(\"Classification Report:\")\n",
    "print(class_report)"
   ]
  },
  {
   "cell_type": "code",
   "execution_count": 126,
   "id": "e0932a10",
   "metadata": {},
   "outputs": [],
   "source": [
    "X_train,y_train = get_train_batch(df3_No_HPV,df3_HPV,132,198) "
   ]
  },
  {
   "cell_type": "code",
   "execution_count": 127,
   "id": "14d49153",
   "metadata": {},
   "outputs": [
    {
     "name": "stdout",
     "output_type": "stream",
     "text": [
      "Classification Report:\n",
      "              precision    recall  f1-score   support\n",
      "\n",
      "    Negative       0.99      0.88      0.93       164\n",
      "    Positive       0.44      0.88      0.59        17\n",
      "\n",
      "    accuracy                           0.88       181\n",
      "   macro avg       0.71      0.88      0.76       181\n",
      "weighted avg       0.94      0.88      0.90       181\n",
      "\n"
     ]
    }
   ],
   "source": [
    "logistic_model.fit(X_train, y_train)\n",
    "y_pred3 = logistic_model.predict(X_test)\n",
    "\n",
    "target_names = ['Negative', 'Positive']  # Class labels for the two classes (0: Negative, 1: Positive)\n",
    "class_report = classification_report(y_test, y_pred3, target_names=target_names)\n",
    "\n",
    "print(\"Classification Report:\")\n",
    "print(class_report)"
   ]
  },
  {
   "cell_type": "code",
   "execution_count": 128,
   "id": "3d4461bb",
   "metadata": {},
   "outputs": [],
   "source": [
    "X_train,y_train = get_train_batch(df3_No_HPV,df3_HPV,198,264) "
   ]
  },
  {
   "cell_type": "code",
   "execution_count": 129,
   "id": "038062db",
   "metadata": {},
   "outputs": [
    {
     "name": "stdout",
     "output_type": "stream",
     "text": [
      "Classification Report:\n",
      "              precision    recall  f1-score   support\n",
      "\n",
      "    Negative       0.99      0.88      0.93       164\n",
      "    Positive       0.43      0.88      0.58        17\n",
      "\n",
      "    accuracy                           0.88       181\n",
      "   macro avg       0.71      0.88      0.75       181\n",
      "weighted avg       0.93      0.88      0.90       181\n",
      "\n"
     ]
    }
   ],
   "source": [
    "logistic_model.fit(X_train, y_train)\n",
    "y_pred4 = logistic_model.predict(X_test)\n",
    "\n",
    "target_names = ['Negative', 'Positive']  # Class labels for the two classes (0: Negative, 1: Positive)\n",
    "class_report = classification_report(y_test, y_pred4, target_names=target_names)\n",
    "\n",
    "print(\"Classification Report:\")\n",
    "print(class_report)"
   ]
  },
  {
   "cell_type": "code",
   "execution_count": 130,
   "id": "d2f17a33",
   "metadata": {},
   "outputs": [],
   "source": [
    "X_train,y_train = get_train_batch(df3_No_HPV,df3_HPV,264,330)"
   ]
  },
  {
   "cell_type": "code",
   "execution_count": 131,
   "id": "83fc174e",
   "metadata": {},
   "outputs": [
    {
     "name": "stdout",
     "output_type": "stream",
     "text": [
      "Classification Report:\n",
      "              precision    recall  f1-score   support\n",
      "\n",
      "    Negative       0.99      0.88      0.93       164\n",
      "    Positive       0.44      0.88      0.59        17\n",
      "\n",
      "    accuracy                           0.88       181\n",
      "   macro avg       0.71      0.88      0.76       181\n",
      "weighted avg       0.94      0.88      0.90       181\n",
      "\n"
     ]
    }
   ],
   "source": [
    "logistic_model.fit(X_train, y_train)\n",
    "y_pred5 = logistic_model.predict(X_test)\n",
    "\n",
    "target_names = ['Negative', 'Positive']  # Class labels for the two classes (0: Negative, 1: Positive)\n",
    "class_report = classification_report(y_test, y_pred5, target_names=target_names)\n",
    "\n",
    "print(\"Classification Report:\")\n",
    "print(class_report)"
   ]
  },
  {
   "cell_type": "code",
   "execution_count": 132,
   "id": "96a1969c",
   "metadata": {},
   "outputs": [],
   "source": [
    "X_train,y_train = get_train_batch(df3_No_HPV,df3_HPV,330,396)"
   ]
  },
  {
   "cell_type": "code",
   "execution_count": 133,
   "id": "82dd4969",
   "metadata": {},
   "outputs": [
    {
     "name": "stdout",
     "output_type": "stream",
     "text": [
      "Classification Report:\n",
      "              precision    recall  f1-score   support\n",
      "\n",
      "    Negative       0.99      0.88      0.93       164\n",
      "    Positive       0.44      0.88      0.59        17\n",
      "\n",
      "    accuracy                           0.88       181\n",
      "   macro avg       0.71      0.88      0.76       181\n",
      "weighted avg       0.94      0.88      0.90       181\n",
      "\n"
     ]
    }
   ],
   "source": [
    "logistic_model.fit(X_train, y_train)\n",
    "y_pred6 = logistic_model.predict(X_test)\n",
    "\n",
    "target_names = ['Negative', 'Positive']  # Class labels for the two classes (0: Negative, 1: Positive)\n",
    "class_report = classification_report(y_test, y_pred6, target_names=target_names)\n",
    "\n",
    "print(\"Classification Report:\")\n",
    "print(class_report)"
   ]
  },
  {
   "cell_type": "code",
   "execution_count": 134,
   "id": "15d93b13",
   "metadata": {},
   "outputs": [],
   "source": [
    "X_train,y_train = get_train_batch(df3_No_HPV,df3_HPV,396,462)"
   ]
  },
  {
   "cell_type": "code",
   "execution_count": 135,
   "id": "9777b6a6",
   "metadata": {},
   "outputs": [
    {
     "name": "stdout",
     "output_type": "stream",
     "text": [
      "Classification Report:\n",
      "              precision    recall  f1-score   support\n",
      "\n",
      "    Negative       0.99      0.89      0.94       164\n",
      "    Positive       0.45      0.88      0.60        17\n",
      "\n",
      "    accuracy                           0.89       181\n",
      "   macro avg       0.72      0.89      0.77       181\n",
      "weighted avg       0.94      0.89      0.90       181\n",
      "\n"
     ]
    }
   ],
   "source": [
    "logistic_model.fit(X_train, y_train)\n",
    "y_pred7 = logistic_model.predict(X_test)\n",
    "\n",
    "target_names = ['Negative', 'Positive']  # Class labels for the two classes (0: Negative, 1: Positive)\n",
    "class_report = classification_report(y_test, y_pred7, target_names=target_names)\n",
    "\n",
    "print(\"Classification Report:\")\n",
    "print(class_report)"
   ]
  },
  {
   "cell_type": "code",
   "execution_count": 136,
   "id": "7b156a50",
   "metadata": {},
   "outputs": [],
   "source": [
    "X_train,y_train = get_train_batch(df3_No_HPV,df3_HPV,462,528)"
   ]
  },
  {
   "cell_type": "code",
   "execution_count": 137,
   "id": "6bbb3d53",
   "metadata": {},
   "outputs": [
    {
     "name": "stdout",
     "output_type": "stream",
     "text": [
      "Classification Report:\n",
      "              precision    recall  f1-score   support\n",
      "\n",
      "    Negative       0.99      0.88      0.93       164\n",
      "    Positive       0.43      0.88      0.58        17\n",
      "\n",
      "    accuracy                           0.88       181\n",
      "   macro avg       0.71      0.88      0.75       181\n",
      "weighted avg       0.93      0.88      0.90       181\n",
      "\n"
     ]
    }
   ],
   "source": [
    "logistic_model.fit(X_train, y_train)\n",
    "y_pred8 = logistic_model.predict(X_test)\n",
    "\n",
    "target_names = ['Negative', 'Positive']  # Class labels for the two classes (0: Negative, 1: Positive)\n",
    "class_report = classification_report(y_test, y_pred8, target_names=target_names)\n",
    "\n",
    "print(\"Classification Report:\")\n",
    "print(class_report)"
   ]
  },
  {
   "cell_type": "code",
   "execution_count": 138,
   "id": "714d0efd",
   "metadata": {},
   "outputs": [],
   "source": [
    "X_train,y_train = get_train_batch(df3_No_HPV,df3_HPV,528,594)"
   ]
  },
  {
   "cell_type": "code",
   "execution_count": 139,
   "id": "a3067ace",
   "metadata": {},
   "outputs": [
    {
     "name": "stdout",
     "output_type": "stream",
     "text": [
      "Classification Report:\n",
      "              precision    recall  f1-score   support\n",
      "\n",
      "    Negative       0.98      0.88      0.93       164\n",
      "    Positive       0.41      0.82      0.55        17\n",
      "\n",
      "    accuracy                           0.87       181\n",
      "   macro avg       0.70      0.85      0.74       181\n",
      "weighted avg       0.93      0.87      0.89       181\n",
      "\n"
     ]
    }
   ],
   "source": [
    "logistic_model.fit(X_train, y_train)\n",
    "y_pred9 = logistic_model.predict(X_test)\n",
    "\n",
    "target_names = ['Negative', 'Positive']  # Class labels for the two classes (0: Negative, 1: Positive)\n",
    "class_report = classification_report(y_test, y_pred9, target_names=target_names)\n",
    "\n",
    "print(\"Classification Report:\")\n",
    "print(class_report)"
   ]
  },
  {
   "cell_type": "code",
   "execution_count": 140,
   "id": "f9ccdd64",
   "metadata": {},
   "outputs": [],
   "source": [
    "X_train,y_train = get_train_batch(df3_No_HPV,df3_HPV,594,657)"
   ]
  },
  {
   "cell_type": "code",
   "execution_count": 141,
   "id": "d0f6aad0",
   "metadata": {},
   "outputs": [
    {
     "name": "stdout",
     "output_type": "stream",
     "text": [
      "Classification Report:\n",
      "              precision    recall  f1-score   support\n",
      "\n",
      "    Negative       0.99      0.85      0.92       164\n",
      "    Positive       0.38      0.88      0.54        17\n",
      "\n",
      "    accuracy                           0.86       181\n",
      "   macro avg       0.69      0.87      0.73       181\n",
      "weighted avg       0.93      0.86      0.88       181\n",
      "\n"
     ]
    }
   ],
   "source": [
    "logistic_model.fit(X_train, y_train)\n",
    "y_pred10 = logistic_model.predict(X_test)\n",
    "\n",
    "target_names = ['Negative', 'Positive']  # Class labels for the two classes (0: Negative, 1: Positive)\n",
    "class_report = classification_report(y_test, y_pred10, target_names=target_names)\n",
    "\n",
    "print(\"Classification Report:\")\n",
    "print(class_report)"
   ]
  },
  {
   "cell_type": "code",
   "execution_count": 142,
   "id": "d26f5fe9",
   "metadata": {},
   "outputs": [
    {
     "data": {
      "text/plain": [
       "181"
      ]
     },
     "execution_count": 142,
     "metadata": {},
     "output_type": "execute_result"
    }
   ],
   "source": [
    "   len(y_pred1)"
   ]
  },
  {
   "cell_type": "code",
   "execution_count": 143,
   "id": "b39c3921",
   "metadata": {},
   "outputs": [],
   "source": [
    "y_pred_final = y_pred1.copy()\n",
    "\n",
    "for i in range(len(y_pred1)):\n",
    "   n_ones = y_pred1[i]+y_pred2[i]+y_pred3[i]+y_pred4[i]+y_pred5[i]+y_pred6[i]+y_pred7[i]+y_pred8[i]+y_pred9[i]+y_pred10[i]\n",
    "if n_ones>1:\n",
    "    y_pred_final[i]=1\n",
    "else:\n",
    "    y_pred_final[i]=1\n",
    "            "
   ]
  },
  {
   "cell_type": "code",
   "execution_count": 144,
   "id": "bd83ceff",
   "metadata": {},
   "outputs": [
    {
     "name": "stdout",
     "output_type": "stream",
     "text": [
      "              precision    recall  f1-score   support\n",
      "\n",
      "    Negative       0.99      0.85      0.92       164\n",
      "    Positive       0.38      0.88      0.54        17\n",
      "\n",
      "    accuracy                           0.86       181\n",
      "   macro avg       0.69      0.87      0.73       181\n",
      "weighted avg       0.93      0.86      0.88       181\n",
      "\n"
     ]
    }
   ],
   "source": [
    "print(class_report)"
   ]
  },
  {
   "cell_type": "markdown",
   "id": "78501ca7",
   "metadata": {},
   "source": [
    "YOU CAN ALSO DO THE SAME FOR RANDOM FOREST CLASSIFIER BUT THE F1 AND RECALL WILL NOT BE SIGNIFICANTLY CHANGE"
   ]
  },
  {
   "cell_type": "markdown",
   "id": "416df885",
   "metadata": {},
   "source": [
    "WHAT IF WE TRAINED THE MODEL WITH THE DATASET IMBALANCED WITHOUT CONSIDERATION FOR THE IMBALANCE"
   ]
  },
  {
   "cell_type": "code",
   "execution_count": 145,
   "id": "88e176b1",
   "metadata": {},
   "outputs": [],
   "source": [
    "from sklearn.model_selection import train_test_split\n",
    "X = df.drop(columns=['HPV_STATUS'])\n",
    "y = df['HPV_STATUS']\n",
    "X_train, X_test, y_train, y_test = train_test_split(X, y, test_size=0.2, random_state=15, stratify=y)"
   ]
  },
  {
   "cell_type": "code",
   "execution_count": 146,
   "id": "1484a2ba",
   "metadata": {},
   "outputs": [
    {
     "name": "stdout",
     "output_type": "stream",
     "text": [
      "Classification Report:\n",
      "              precision    recall  f1-score   support\n",
      "\n",
      "    Negative       0.96      0.98      0.97       164\n",
      "    Positive       0.73      0.65      0.69        17\n",
      "\n",
      "    accuracy                           0.94       181\n",
      "   macro avg       0.85      0.81      0.83       181\n",
      "weighted avg       0.94      0.94      0.94       181\n",
      "\n"
     ]
    }
   ],
   "source": [
    "logistic_model.fit(X_train, y_train)\n",
    "y_pred = logistic_model.predict(X_test)\n",
    "target_names = ['Negative', 'Positive']  \n",
    "class_report = classification_report(y_test, y_pred, target_names=target_names)\n",
    "\n",
    "print(\"Classification Report:\")\n",
    "print(class_report)"
   ]
  },
  {
   "cell_type": "markdown",
   "id": "f4132966",
   "metadata": {},
   "source": [
    "You can see that the recall and f1 score of the model is quite low for those patients with cancer"
   ]
  },
  {
   "cell_type": "markdown",
   "id": "051e871d",
   "metadata": {},
   "source": [
    "LET US SEE HOW THE MODEL WOULD WORK IF WE OVER SAMPLED THE MINORITY DATASET AND THEN USED STRATIFIED K FOLD AND DID A TRAIN TEST AND SPLIT"
   ]
  },
  {
   "cell_type": "code",
   "execution_count": 147,
   "id": "69ff4ae5",
   "metadata": {},
   "outputs": [],
   "source": [
    "df_class_0 = df[df['HPV_STATUS']==0]\n",
    "df_class_1 = df[df['HPV_STATUS']==1]\n",
    "df_class_1_over= df_class_1.sample(821, replace=True)\n",
    "df_new = pd.concat([df_class_0,df_class_1_over], axis=0, ignore_index=True)\n",
    "df_new=shuffle(df_new, random_state=42)"
   ]
  },
  {
   "cell_type": "code",
   "execution_count": 148,
   "id": "6628cf29",
   "metadata": {},
   "outputs": [
    {
     "data": {
      "text/plain": [
       "(1642, 11)"
      ]
     },
     "execution_count": 148,
     "metadata": {},
     "output_type": "execute_result"
    }
   ],
   "source": [
    "df_new.shape"
   ]
  },
  {
   "cell_type": "code",
   "execution_count": 149,
   "id": "bd685028",
   "metadata": {},
   "outputs": [],
   "source": [
    "from sklearn.model_selection import StratifiedKFold\n",
    "from sklearn.linear_model import LogisticRegression\n",
    "from sklearn.metrics import recall_score, f1_score\n",
    "\n",
    "from sklearn.model_selection import train_test_split\n",
    "\n",
    "X=df_new.drop('HPV_STATUS', axis = 1)\n",
    "y=df_new['HPV_STATUS']\n",
    "X_test, X_train, y_test, y_train = train_test_split(X,y, test_size = 0.2, random_state=15, stratify = y)\n"
   ]
  },
  {
   "cell_type": "code",
   "execution_count": 150,
   "id": "c88bc5dd",
   "metadata": {},
   "outputs": [
    {
     "name": "stdout",
     "output_type": "stream",
     "text": [
      "Classification Report:\n",
      "              precision    recall  f1-score   support\n",
      "\n",
      "    Negative       0.88      0.89      0.88       656\n",
      "    Positive       0.89      0.87      0.88       657\n",
      "\n",
      "    accuracy                           0.88      1313\n",
      "   macro avg       0.88      0.88      0.88      1313\n",
      "weighted avg       0.88      0.88      0.88      1313\n",
      "\n"
     ]
    }
   ],
   "source": [
    "logistic_model.fit(X_train, y_train)\n",
    "y_pred = logistic_model.predict(X_test)\n",
    "target_names = ['Negative', 'Positive']  \n",
    "class_report = classification_report(y_test, y_pred, target_names=target_names)\n",
    "\n",
    "print(\"Classification Report:\")\n",
    "print(class_report)"
   ]
  },
  {
   "cell_type": "markdown",
   "id": "6516bb49",
   "metadata": {},
   "source": [
    "LET US SEE HOW THE MODEL WOULD WORK IF WE OVER SAMPLED THE MINORITY DATASET AND THEN USED STRATIFIED K FOLD AND A CROSS VALIDATION"
   ]
  },
  {
   "cell_type": "code",
   "execution_count": 151,
   "id": "55029fe6",
   "metadata": {},
   "outputs": [],
   "source": [
    "import pandas as pd\n",
    "from sklearn.model_selection import StratifiedKFold\n",
    "from sklearn.linear_model import LogisticRegression\n",
    "from sklearn.metrics import recall_score, f1_score\n",
    "\n",
    "from sklearn.model_selection import train_test_split\n",
    "\n",
    "df_class_0 = df[df['HPV_STATUS']==0]\n",
    "df_class_1 = df[df['HPV_STATUS']==1]\n",
    "df_class_1_over= df_class_1.sample(821, replace=True)\n",
    "df_new = pd.concat([df_class_0,df_class_1_over], axis=0, ignore_index=True)\n",
    "df_new=shuffle(df_new, random_state=42)"
   ]
  },
  {
   "cell_type": "code",
   "execution_count": 152,
   "id": "97a84070",
   "metadata": {},
   "outputs": [
    {
     "data": {
      "text/plain": [
       "0    821\n",
       "1    821\n",
       "Name: HPV_STATUS, dtype: int64"
      ]
     },
     "execution_count": 152,
     "metadata": {},
     "output_type": "execute_result"
    }
   ],
   "source": [
    "df_new.HPV_STATUS.value_counts()"
   ]
  },
  {
   "cell_type": "code",
   "execution_count": 153,
   "id": "9c353ce4",
   "metadata": {},
   "outputs": [
    {
     "data": {
      "text/plain": [
       "0.8996960486322189"
      ]
     },
     "execution_count": 153,
     "metadata": {},
     "output_type": "execute_result"
    }
   ],
   "source": [
    "import pandas as pd\n",
    "from sklearn.model_selection import KFold\n",
    "from sklearn.linear_model import LogisticRegression\n",
    "from sklearn.ensemble import RandomForestClassifier\n",
    "from sklearn.metrics import recall_score, f1_score\n",
    "from sklearn.model_selection import train_test_split\n",
    "\n",
    "X_train, X_test, y_train, y_test = train_test_split(X,y, test_size=0.2, random_state=15, stratify = y)\n",
    "\n",
    "lr=LogisticRegression()\n",
    "lr.fit(X_train, y_train)\n",
    "lr.score(X_test, y_test)"
   ]
  },
  {
   "cell_type": "code",
   "execution_count": 154,
   "id": "fc0a0e06",
   "metadata": {},
   "outputs": [
    {
     "data": {
      "text/plain": [
       "0.9696048632218845"
      ]
     },
     "execution_count": 154,
     "metadata": {},
     "output_type": "execute_result"
    }
   ],
   "source": [
    "rf=RandomForestClassifier()\n",
    "rf.fit(X_train, y_train)\n",
    "rf.score(X_test, y_test)"
   ]
  },
  {
   "cell_type": "code",
   "execution_count": 155,
   "id": "670b6c79",
   "metadata": {},
   "outputs": [
    {
     "data": {
      "text/plain": [
       "KFold(n_splits=5, random_state=42, shuffle=True)"
      ]
     },
     "execution_count": 155,
     "metadata": {},
     "output_type": "execute_result"
    }
   ],
   "source": [
    "from sklearn.model_selection import KFold\n",
    "kf=KFold(n_splits=5, random_state=42, shuffle=True)\n",
    "kf"
   ]
  },
  {
   "cell_type": "code",
   "execution_count": 157,
   "id": "34e15d43",
   "metadata": {},
   "outputs": [],
   "source": [
    "def get_score (model, X_train, X_test, y_train, y_test):\n",
    "    model.fit(X_train, y_train)\n",
    "    return model.score(X_test, y_test)"
   ]
  },
  {
   "cell_type": "code",
   "execution_count": 162,
   "id": "159c4412",
   "metadata": {
    "scrolled": true
   },
   "outputs": [
    {
     "name": "stdout",
     "output_type": "stream",
     "text": [
      "HPV Positive Recall: 1.0\n",
      "HPV Negative Recall: 0.9584733341899779\n",
      "HPV Positive F1 Score: 0.9797244127709345\n",
      "HPV Negative F1 Score: 0.9786914561632514\n"
     ]
    }
   ],
   "source": [
    "import pandas as pd\n",
    "from sklearn.model_selection import KFold\n",
    "from sklearn.linear_model import LogisticRegression\n",
    "from sklearn.metrics import recall_score, f1_score\n",
    "from sklearn.ensemble import RandomForestClassifier\n",
    "\n",
    "X = df_new.drop(columns=['HPV_STATUS'])\n",
    "y = df_new['HPV_STATUS']\n",
    "\n",
    "n_splits = 10\n",
    "kf = KFold(n_splits=n_splits, shuffle=True, random_state=42)\n",
    "\n",
    "# Create a logistic regression model\n",
    "logistic_model = LogisticRegression(random_state=42)\n",
    "rf=RandomForestClassifier()\n",
    "\n",
    "# Initialize lists to store evaluation metrics for each fold\n",
    "avg_hpv_positive_recall = 0\n",
    "avg_hpv_negative_recall = 0\n",
    "avg_hpv_positive_f1 = 0\n",
    "avg_hpv_negative_f1 = 0\n",
    "\n",
    "# Perform standard K-fold cross-validation\n",
    "for train_index, test_index in kf.split(X, y):\n",
    "    X_train, X_test = X.iloc[train_index], X.iloc[test_index]\n",
    "    y_train, y_test = y.iloc[train_index], y.iloc[test_index]\n",
    "\n",
    "    # Train the model on the training data\n",
    "    rf.fit(X_train, y_train)\n",
    "\n",
    "    # Make predictions on the testing data\n",
    "    y_pred = rf.predict(X_test)\n",
    "\n",
    "    # Calculate recall and F1 score for each class\n",
    "    \n",
    "    hpv_positive_recall = recall_score(y_test, y_pred, pos_label=1)\n",
    "    hpv_negative_recall = recall_score(y_test, y_pred, pos_label=0)\n",
    "    hpv_positive_f1 = f1_score(y_test, y_pred, pos_label=1)\n",
    "    hpv_negative_f1 = f1_score(y_test, y_pred, pos_label=0)\n",
    "\n",
    "    # Accumulate metrics for averaging\n",
    "    avg_hpv_positive_recall += hpv_positive_recall\n",
    "    avg_hpv_negative_recall += hpv_negative_recall\n",
    "    avg_hpv_positive_f1 += hpv_positive_f1\n",
    "    avg_hpv_negative_f1 += hpv_negative_f1\n",
    "\n",
    "avg_hpv_positive_recall /= n_splits\n",
    "avg_hpv_negative_recall /= n_splits\n",
    "avg_hpv_positive_f1 /= n_splits\n",
    "avg_hpv_negative_f1 /= n_splits\n",
    "\n",
    " \n",
    "print(\"HPV Positive Recall:\", avg_hpv_positive_recall)\n",
    "print(\"HPV Negative Recall:\", avg_hpv_negative_recall)\n",
    "print(\"HPV Positive F1 Score:\", avg_hpv_positive_f1)\n",
    "print(\"HPV Negative F1 Score:\", avg_hpv_negative_f1)\n"
   ]
  },
  {
   "cell_type": "code",
   "execution_count": 166,
   "id": "334801d3",
   "metadata": {},
   "outputs": [
    {
     "name": "stdout",
     "output_type": "stream",
     "text": [
      "HPV Positive Recall: 0.8947301007022531\n",
      "HPV Negative Recall: 0.8974152820255616\n",
      "HPV Positive F1 Score: 0.895573422904144\n",
      "HPV Negative F1 Score: 0.8954344750499217\n"
     ]
    }
   ],
   "source": [
    "import pandas as pd\n",
    "from sklearn.model_selection import KFold\n",
    "from sklearn.linear_model import LogisticRegression\n",
    "from sklearn.metrics import recall_score, f1_score\n",
    "from sklearn.ensemble import RandomForestClassifier\n",
    "\n",
    "X = df_new.drop(columns=['HPV_STATUS'])\n",
    "y = df_new['HPV_STATUS']\n",
    "\n",
    "n_splits = 10\n",
    "kf = KFold(n_splits=n_splits, shuffle=True, random_state=42)\n",
    "\n",
    "# Create a logistic regression model\n",
    "logistic_model = LogisticRegression(random_state=42)\n",
    "\n",
    "# Initialize lists to store evaluation metrics for each fold\n",
    "avg_hpv_positive_recall = 0\n",
    "avg_hpv_negative_recall = 0\n",
    "avg_hpv_positive_f1 = 0\n",
    "avg_hpv_negative_f1 = 0\n",
    "\n",
    "# Perform standard K-fold cross-validation\n",
    "for train_index, test_index in kf.split(X, y):\n",
    "    X_train, X_test = X.iloc[train_index], X.iloc[test_index]\n",
    "    y_train, y_test = y.iloc[train_index], y.iloc[test_index]\n",
    "\n",
    "   \n",
    "    logistic_model.fit(X_train, y_train)\n",
    "\n",
    "    y_pred = logistic_model.predict(X_test)\n",
    "    \n",
    "    hpv_positive_recall = recall_score(y_test, y_pred, pos_label=1)\n",
    "    hpv_negative_recall = recall_score(y_test, y_pred, pos_label=0)\n",
    "    hpv_positive_f1 = f1_score(y_test, y_pred, pos_label=1)\n",
    "    hpv_negative_f1 = f1_score(y_test, y_pred, pos_label=0)\n",
    "\n",
    " \n",
    "    avg_hpv_positive_recall += hpv_positive_recall\n",
    "    avg_hpv_negative_recall += hpv_negative_recall\n",
    "    avg_hpv_positive_f1 += hpv_positive_f1\n",
    "    avg_hpv_negative_f1 += hpv_negative_f1\n",
    "\n",
    "avg_hpv_positive_recall /= n_splits\n",
    "avg_hpv_negative_recall /= n_splits\n",
    "avg_hpv_positive_f1 /= n_splits\n",
    "avg_hpv_negative_f1 /= n_splits\n",
    "\n",
    " \n",
    "print(\"HPV Positive Recall:\", avg_hpv_positive_recall)\n",
    "print(\"HPV Negative Recall:\", avg_hpv_negative_recall)\n",
    "print(\"HPV Positive F1 Score:\", avg_hpv_positive_f1)\n",
    "print(\"HPV Negative F1 Score:\", avg_hpv_negative_f1)\n",
    "\n"
   ]
  },
  {
   "cell_type": "code",
   "execution_count": 170,
   "id": "e0dbc1db",
   "metadata": {},
   "outputs": [],
   "source": [
    "import joblib"
   ]
  },
  {
   "cell_type": "code",
   "execution_count": 172,
   "id": "b8c16165",
   "metadata": {},
   "outputs": [],
   "source": [
    "model_data = {\n",
    "    \"n_estimators\": rf.n_estimators,\n",
    "    \"max_features\": rf.max_features,\n",
    "    # Add other relevant attributes here\n",
    "}\n",
    "\n",
    "# Save the model data as JSON\n",
    "with open('random_forest_model.json', 'w') as json_file:\n",
    "    json.dump(model_data, json_file)"
   ]
  },
  {
   "cell_type": "code",
   "execution_count": 173,
   "id": "906efe9f",
   "metadata": {},
   "outputs": [],
   "source": [
    "with open('random_forest_model.json', 'r') as json_file:\n",
    "    loaded_model_data = json.load(json_file)\n",
    "loaded_rf = RandomForestClassifier(**loaded_model_data)"
   ]
  },
  {
   "cell_type": "code",
   "execution_count": 1,
   "id": "922bdfd9",
   "metadata": {},
   "outputs": [
    {
     "ename": "SyntaxError",
     "evalue": "invalid syntax (178625044.py, line 1)",
     "output_type": "error",
     "traceback": [
      "\u001b[0;36m  Cell \u001b[0;32mIn [1], line 1\u001b[0;36m\u001b[0m\n\u001b[0;31m    git add.\u001b[0m\n\u001b[0m        ^\u001b[0m\n\u001b[0;31mSyntaxError\u001b[0m\u001b[0;31m:\u001b[0m invalid syntax\n"
     ]
    }
   ],
   "source": [
    "git add.\n"
   ]
  },
  {
   "cell_type": "code",
   "execution_count": null,
   "id": "d0a02560",
   "metadata": {},
   "outputs": [],
   "source": []
  }
 ],
 "metadata": {
  "kernelspec": {
   "display_name": "Python 3 (ipykernel)",
   "language": "python",
   "name": "python3"
  },
  "language_info": {
   "codemirror_mode": {
    "name": "ipython",
    "version": 3
   },
   "file_extension": ".py",
   "mimetype": "text/x-python",
   "name": "python",
   "nbconvert_exporter": "python",
   "pygments_lexer": "ipython3",
   "version": "3.10.9"
  }
 },
 "nbformat": 4,
 "nbformat_minor": 5
}
